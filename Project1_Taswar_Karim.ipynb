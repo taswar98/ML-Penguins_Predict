{
 "cells": [
  {
   "cell_type": "markdown",
   "metadata": {},
   "source": [
    "# Project 1 - Penguin Dataset\n",
    "\n",
    "<h3> Taswar Karim  </h3>"
   ]
  },
  {
   "cell_type": "markdown",
   "metadata": {},
   "source": []
  },
  {
   "cell_type": "markdown",
   "metadata": {},
   "source": [
    "<h5> We will start by loading the penguin dataset into the notebook </h5>\n",
    "<h5>....and begin our exploratory data analysis </h5>\n"
   ]
  },
  {
   "cell_type": "code",
   "execution_count": 64,
   "metadata": {},
   "outputs": [
    {
     "data": {
      "text/html": [
       "<div>\n",
       "<style scoped>\n",
       "    .dataframe tbody tr th:only-of-type {\n",
       "        vertical-align: middle;\n",
       "    }\n",
       "\n",
       "    .dataframe tbody tr th {\n",
       "        vertical-align: top;\n",
       "    }\n",
       "\n",
       "    .dataframe thead th {\n",
       "        text-align: right;\n",
       "    }\n",
       "</style>\n",
       "<table border=\"1\" class=\"dataframe\">\n",
       "  <thead>\n",
       "    <tr style=\"text-align: right;\">\n",
       "      <th></th>\n",
       "      <th>species</th>\n",
       "      <th>island</th>\n",
       "      <th>culmen_length_mm</th>\n",
       "      <th>culmen_depth_mm</th>\n",
       "      <th>flipper_length_mm</th>\n",
       "      <th>body_mass_g</th>\n",
       "      <th>sex</th>\n",
       "    </tr>\n",
       "  </thead>\n",
       "  <tbody>\n",
       "    <tr>\n",
       "      <th>0</th>\n",
       "      <td>Adelie</td>\n",
       "      <td>Torgersen</td>\n",
       "      <td>39.1</td>\n",
       "      <td>18.7</td>\n",
       "      <td>181.0</td>\n",
       "      <td>3750.0</td>\n",
       "      <td>MALE</td>\n",
       "    </tr>\n",
       "    <tr>\n",
       "      <th>1</th>\n",
       "      <td>Adelie</td>\n",
       "      <td>Torgersen</td>\n",
       "      <td>39.5</td>\n",
       "      <td>17.4</td>\n",
       "      <td>186.0</td>\n",
       "      <td>3800.0</td>\n",
       "      <td>FEMALE</td>\n",
       "    </tr>\n",
       "    <tr>\n",
       "      <th>2</th>\n",
       "      <td>Adelie</td>\n",
       "      <td>Torgersen</td>\n",
       "      <td>40.3</td>\n",
       "      <td>18.0</td>\n",
       "      <td>195.0</td>\n",
       "      <td>3250.0</td>\n",
       "      <td>FEMALE</td>\n",
       "    </tr>\n",
       "    <tr>\n",
       "      <th>3</th>\n",
       "      <td>Adelie</td>\n",
       "      <td>Torgersen</td>\n",
       "      <td>NaN</td>\n",
       "      <td>NaN</td>\n",
       "      <td>NaN</td>\n",
       "      <td>NaN</td>\n",
       "      <td>NaN</td>\n",
       "    </tr>\n",
       "    <tr>\n",
       "      <th>4</th>\n",
       "      <td>Adelie</td>\n",
       "      <td>Torgersen</td>\n",
       "      <td>36.7</td>\n",
       "      <td>19.3</td>\n",
       "      <td>193.0</td>\n",
       "      <td>3450.0</td>\n",
       "      <td>FEMALE</td>\n",
       "    </tr>\n",
       "    <tr>\n",
       "      <th>...</th>\n",
       "      <td>...</td>\n",
       "      <td>...</td>\n",
       "      <td>...</td>\n",
       "      <td>...</td>\n",
       "      <td>...</td>\n",
       "      <td>...</td>\n",
       "      <td>...</td>\n",
       "    </tr>\n",
       "    <tr>\n",
       "      <th>95</th>\n",
       "      <td>Adelie</td>\n",
       "      <td>Dream</td>\n",
       "      <td>40.8</td>\n",
       "      <td>18.9</td>\n",
       "      <td>208.0</td>\n",
       "      <td>4300.0</td>\n",
       "      <td>MALE</td>\n",
       "    </tr>\n",
       "    <tr>\n",
       "      <th>96</th>\n",
       "      <td>Adelie</td>\n",
       "      <td>Dream</td>\n",
       "      <td>38.1</td>\n",
       "      <td>18.6</td>\n",
       "      <td>190.0</td>\n",
       "      <td>3700.0</td>\n",
       "      <td>FEMALE</td>\n",
       "    </tr>\n",
       "    <tr>\n",
       "      <th>97</th>\n",
       "      <td>Adelie</td>\n",
       "      <td>Dream</td>\n",
       "      <td>40.3</td>\n",
       "      <td>18.5</td>\n",
       "      <td>196.0</td>\n",
       "      <td>4350.0</td>\n",
       "      <td>MALE</td>\n",
       "    </tr>\n",
       "    <tr>\n",
       "      <th>98</th>\n",
       "      <td>Adelie</td>\n",
       "      <td>Dream</td>\n",
       "      <td>33.1</td>\n",
       "      <td>16.1</td>\n",
       "      <td>178.0</td>\n",
       "      <td>2900.0</td>\n",
       "      <td>FEMALE</td>\n",
       "    </tr>\n",
       "    <tr>\n",
       "      <th>99</th>\n",
       "      <td>Adelie</td>\n",
       "      <td>Dream</td>\n",
       "      <td>43.2</td>\n",
       "      <td>18.5</td>\n",
       "      <td>192.0</td>\n",
       "      <td>4100.0</td>\n",
       "      <td>MALE</td>\n",
       "    </tr>\n",
       "  </tbody>\n",
       "</table>\n",
       "<p>100 rows × 7 columns</p>\n",
       "</div>"
      ],
      "text/plain": [
       "   species     island  culmen_length_mm  culmen_depth_mm  flipper_length_mm  \\\n",
       "0   Adelie  Torgersen              39.1             18.7              181.0   \n",
       "1   Adelie  Torgersen              39.5             17.4              186.0   \n",
       "2   Adelie  Torgersen              40.3             18.0              195.0   \n",
       "3   Adelie  Torgersen               NaN              NaN                NaN   \n",
       "4   Adelie  Torgersen              36.7             19.3              193.0   \n",
       "..     ...        ...               ...              ...                ...   \n",
       "95  Adelie      Dream              40.8             18.9              208.0   \n",
       "96  Adelie      Dream              38.1             18.6              190.0   \n",
       "97  Adelie      Dream              40.3             18.5              196.0   \n",
       "98  Adelie      Dream              33.1             16.1              178.0   \n",
       "99  Adelie      Dream              43.2             18.5              192.0   \n",
       "\n",
       "    body_mass_g     sex  \n",
       "0        3750.0    MALE  \n",
       "1        3800.0  FEMALE  \n",
       "2        3250.0  FEMALE  \n",
       "3           NaN     NaN  \n",
       "4        3450.0  FEMALE  \n",
       "..          ...     ...  \n",
       "95       4300.0    MALE  \n",
       "96       3700.0  FEMALE  \n",
       "97       4350.0    MALE  \n",
       "98       2900.0  FEMALE  \n",
       "99       4100.0    MALE  \n",
       "\n",
       "[100 rows x 7 columns]"
      ]
     },
     "execution_count": 64,
     "metadata": {},
     "output_type": "execute_result"
    }
   ],
   "source": [
    "import matplotlib.pyplot as plt\n",
    "import pandas as pd\n",
    "import numpy as np\n",
    "import seaborn as sns\n",
    "from sklearn.model_selection import train_test_split\n",
    "from sklearn.model_selection import cross_val_score\n",
    "from sklearn.ensemble import RandomForestClassifier\n",
    "from sklearn.model_selection import GridSearchCV\n",
    "from sklearn.model_selection import learning_curve\n",
    "from sklearn.svm import SVC\n",
    "from sklearn.linear_model import LogisticRegression\n",
    "from sklearn.neural_network import MLPClassifier\n",
    "from sklearn.ensemble import RandomForestClassifier\n",
    "from sklearn.ensemble import GradientBoostingClassifier\n",
    "import joblib\n",
    "from time import time\n",
    "from sklearn.metrics import accuracy_score, precision_score, recall_score\n",
    "from sklearn.metrics import confusion_matrix,classification_report\n",
    "from sklearn.model_selection import ShuffleSplit\n",
    "\n",
    "%matplotlib inline\n",
    "import warnings\n",
    "warnings.filterwarnings(\"ignore\", category=FutureWarning)\n",
    "\n",
    "\n",
    "penguins = pd.read_csv('penguins_size.csv')\n",
    "penguins.head(100)"
   ]
  },
  {
   "cell_type": "markdown",
   "metadata": {},
   "source": [
    "<h4> Lets take a closer look at the datasets to get more insights </h4>"
   ]
  },
  {
   "cell_type": "code",
   "execution_count": 65,
   "metadata": {},
   "outputs": [
    {
     "name": "stdout",
     "output_type": "stream",
     "text": [
      "<class 'pandas.core.frame.DataFrame'>\n",
      "RangeIndex: 344 entries, 0 to 343\n",
      "Data columns (total 7 columns):\n",
      " #   Column             Non-Null Count  Dtype  \n",
      "---  ------             --------------  -----  \n",
      " 0   species            344 non-null    object \n",
      " 1   island             344 non-null    object \n",
      " 2   culmen_length_mm   342 non-null    float64\n",
      " 3   culmen_depth_mm    342 non-null    float64\n",
      " 4   flipper_length_mm  342 non-null    float64\n",
      " 5   body_mass_g        342 non-null    float64\n",
      " 6   sex                334 non-null    object \n",
      "dtypes: float64(4), object(3)\n",
      "memory usage: 18.9+ KB\n"
     ]
    }
   ],
   "source": [
    "penguins.describe()\n",
    "penguins.info()"
   ]
  },
  {
   "cell_type": "markdown",
   "metadata": {},
   "source": [
    "## Observation 1 ##\n",
    "Looking at the information above, we note that there are 10 objects missing within 'sex' and 2 missing values for culmen_length_mm, culmen depth_mm, flipper_length_mm & body_mass_g. Upon looking further we see there is a gender column with '.' instead of male/female"
   ]
  },
  {
   "cell_type": "markdown",
   "metadata": {},
   "source": [
    "## Observation 2 ##\n",
    "From the information above, we can conclude that Adelie on average have a lower culmen length than the other two species. However we can observe that despite having similar average culmen length between Chinstrap and Gentoo , the latter seems to have a much bigger body mass and a substantial longer flipper length"
   ]
  },
  {
   "cell_type": "markdown",
   "metadata": {},
   "source": [
    "Lets plot a few graphs to examine our Observation #2"
   ]
  },
  {
   "cell_type": "code",
   "execution_count": 4,
   "metadata": {},
   "outputs": [
    {
     "data": {
      "text/plain": [
       "Text(0, 0.5, 'Body Mass')"
      ]
     },
     "execution_count": 4,
     "metadata": {},
     "output_type": "execute_result"
    },
    {
     "data": {
      "image/png": "[encoded data removed]",
      "text/plain": [
       "<Figure size 720x504 with 1 Axes>"
      ]
     },
     "metadata": {
      "needs_background": "light"
     },
     "output_type": "display_data"
    }
   ],
   "source": [
    "plt.figure(figsize = [10,7])\n",
    "bm_species = sns.boxplot(x = 'island', y ='body_mass_g', hue = 'species', data = penguins, palette=['#FF8C00','#159090','#A034F0'], linewidth=0.5)\n",
    "bm_species.set_xlabel('Island')\n",
    "bm_species.set_ylabel('Body Mass')"
   ]
  },
  {
   "cell_type": "markdown",
   "metadata": {},
   "source": [
    "Lets do a lineplot to differentiate flipper length of different species of penguins \n"
   ]
  },
  {
   "cell_type": "code",
   "execution_count": 5,
   "metadata": {},
   "outputs": [
    {
     "data": {
      "text/plain": [
       "<seaborn.axisgrid.FacetGrid at 0x7f9971edb610>"
      ]
     },
     "execution_count": 5,
     "metadata": {},
     "output_type": "execute_result"
    },
    {
     "data": {
      "image/png": "[encoded data removed]",
      "text/plain": [
       "<Figure size 804.125x720 with 1 Axes>"
      ]
     },
     "metadata": {
      "needs_background": "light"
     },
     "output_type": "display_data"
    }
   ],
   "source": [
    "flipper_species = sns.lmplot(x=\"flipper_length_mm\", y=\"body_mass_g\", hue=\"species\", height=10, data=penguins, palette=['#FF8C00','#159090','#A034F0'])\n",
    "flipper_species.set_xlabels('Flipper Length')\n",
    "flipper_species.set_ylabels('Body Mass')"
   ]
  },
  {
   "cell_type": "code",
   "execution_count": 6,
   "metadata": {},
   "outputs": [
    {
     "data": {
      "text/plain": [
       "Biscoe       168\n",
       "Dream        124\n",
       "Torgersen     52\n",
       "Name: island, dtype: int64"
      ]
     },
     "execution_count": 6,
     "metadata": {},
     "output_type": "execute_result"
    }
   ],
   "source": [
    "penguins['island'].value_counts()"
   ]
  },
  {
   "cell_type": "code",
   "execution_count": 7,
   "metadata": {},
   "outputs": [
    {
     "data": {
      "text/html": [
       "<div>\n",
       "<style scoped>\n",
       "    .dataframe tbody tr th:only-of-type {\n",
       "        vertical-align: middle;\n",
       "    }\n",
       "\n",
       "    .dataframe tbody tr th {\n",
       "        vertical-align: top;\n",
       "    }\n",
       "\n",
       "    .dataframe thead th {\n",
       "        text-align: right;\n",
       "    }\n",
       "</style>\n",
       "<table border=\"1\" class=\"dataframe\">\n",
       "  <thead>\n",
       "    <tr style=\"text-align: right;\">\n",
       "      <th>island</th>\n",
       "      <th>Biscoe</th>\n",
       "      <th>Dream</th>\n",
       "      <th>Torgersen</th>\n",
       "    </tr>\n",
       "    <tr>\n",
       "      <th>species</th>\n",
       "      <th></th>\n",
       "      <th></th>\n",
       "      <th></th>\n",
       "    </tr>\n",
       "  </thead>\n",
       "  <tbody>\n",
       "    <tr>\n",
       "      <th>Adelie</th>\n",
       "      <td>44.0</td>\n",
       "      <td>55.0</td>\n",
       "      <td>47.0</td>\n",
       "    </tr>\n",
       "    <tr>\n",
       "      <th>Chinstrap</th>\n",
       "      <td>NaN</td>\n",
       "      <td>68.0</td>\n",
       "      <td>NaN</td>\n",
       "    </tr>\n",
       "    <tr>\n",
       "      <th>Gentoo</th>\n",
       "      <td>120.0</td>\n",
       "      <td>NaN</td>\n",
       "      <td>NaN</td>\n",
       "    </tr>\n",
       "  </tbody>\n",
       "</table>\n",
       "</div>"
      ],
      "text/plain": [
       "island     Biscoe  Dream  Torgersen\n",
       "species                            \n",
       "Adelie       44.0   55.0       47.0\n",
       "Chinstrap     NaN   68.0        NaN\n",
       "Gentoo      120.0    NaN        NaN"
      ]
     },
     "execution_count": 7,
     "metadata": {},
     "output_type": "execute_result"
    }
   ],
   "source": [
    "penguins.pivot_table('sex', index='species', columns='island', aggfunc='count')"
   ]
  },
  {
   "cell_type": "markdown",
   "metadata": {},
   "source": [
    "# Observation 3 #\n",
    "From the observation above, it seems 'Gentoo' species are only found on the Biscoe island and 'Chinstrap' species are only found on Dream Island whereas 'Adelie' species are found in all 3 islands. "
   ]
  },
  {
   "cell_type": "markdown",
   "metadata": {},
   "source": [
    "# Realization #\n",
    "It seems pretty clear that according to our data each penguin species is easily distinguishable from the island it comes from. One thought is that if the penguin is from Biscoe, that eliminates its chance for being a Chinstrap penguin (It must be either Adelie or Gentoo specie), alternatively if the penguin is from Dream island, it can not be a Gentoo as they do not seem to exist in that island (It must be either Adelie or Chinstrap). According to our observation #2 Adelie penguin species have a much lower average culmen length which distinguishes it from the other species. So according to the data the 2 most important feature to look at in order to classify the class of penguin could be the Island and culmen length but ofcourse we must take the other datas into account as well if we are to make a more accurate prediction. Thankfully, our ML algorithms are there to help us with it."
   ]
  },
  {
   "cell_type": "markdown",
   "metadata": {},
   "source": [
    "Lets take a look if each penguin species gender have any distinguishable feature"
   ]
  },
  {
   "cell_type": "code",
   "execution_count": 8,
   "metadata": {},
   "outputs": [
    {
     "data": {
      "text/html": [
       "<div>\n",
       "<style scoped>\n",
       "    .dataframe tbody tr th:only-of-type {\n",
       "        vertical-align: middle;\n",
       "    }\n",
       "\n",
       "    .dataframe tbody tr th {\n",
       "        vertical-align: top;\n",
       "    }\n",
       "\n",
       "    .dataframe thead th {\n",
       "        text-align: right;\n",
       "    }\n",
       "</style>\n",
       "<table border=\"1\" class=\"dataframe\">\n",
       "  <thead>\n",
       "    <tr style=\"text-align: right;\">\n",
       "      <th>species</th>\n",
       "      <th>Adelie</th>\n",
       "      <th>Chinstrap</th>\n",
       "      <th>Gentoo</th>\n",
       "    </tr>\n",
       "    <tr>\n",
       "      <th>sex</th>\n",
       "      <th></th>\n",
       "      <th></th>\n",
       "      <th></th>\n",
       "    </tr>\n",
       "  </thead>\n",
       "  <tbody>\n",
       "    <tr>\n",
       "      <th>.</th>\n",
       "      <td>NaN</td>\n",
       "      <td>NaN</td>\n",
       "      <td>4875.000000</td>\n",
       "    </tr>\n",
       "    <tr>\n",
       "      <th>FEMALE</th>\n",
       "      <td>3368.835616</td>\n",
       "      <td>3527.205882</td>\n",
       "      <td>4679.741379</td>\n",
       "    </tr>\n",
       "    <tr>\n",
       "      <th>MALE</th>\n",
       "      <td>4043.493151</td>\n",
       "      <td>3938.970588</td>\n",
       "      <td>5484.836066</td>\n",
       "    </tr>\n",
       "  </tbody>\n",
       "</table>\n",
       "</div>"
      ],
      "text/plain": [
       "species       Adelie    Chinstrap       Gentoo\n",
       "sex                                           \n",
       ".                NaN          NaN  4875.000000\n",
       "FEMALE   3368.835616  3527.205882  4679.741379\n",
       "MALE     4043.493151  3938.970588  5484.836066"
      ]
     },
     "execution_count": 8,
     "metadata": {},
     "output_type": "execute_result"
    }
   ],
   "source": [
    "penguins.pivot_table('body_mass_g', index='sex', columns='species')"
   ]
  },
  {
   "cell_type": "code",
   "execution_count": 9,
   "metadata": {},
   "outputs": [
    {
     "data": {
      "text/html": [
       "<div>\n",
       "<style scoped>\n",
       "    .dataframe tbody tr th:only-of-type {\n",
       "        vertical-align: middle;\n",
       "    }\n",
       "\n",
       "    .dataframe tbody tr th {\n",
       "        vertical-align: top;\n",
       "    }\n",
       "\n",
       "    .dataframe thead th {\n",
       "        text-align: right;\n",
       "    }\n",
       "</style>\n",
       "<table border=\"1\" class=\"dataframe\">\n",
       "  <thead>\n",
       "    <tr style=\"text-align: right;\">\n",
       "      <th>species</th>\n",
       "      <th>Adelie</th>\n",
       "      <th>Chinstrap</th>\n",
       "      <th>Gentoo</th>\n",
       "    </tr>\n",
       "    <tr>\n",
       "      <th>sex</th>\n",
       "      <th></th>\n",
       "      <th></th>\n",
       "      <th></th>\n",
       "    </tr>\n",
       "  </thead>\n",
       "  <tbody>\n",
       "    <tr>\n",
       "      <th>.</th>\n",
       "      <td>NaN</td>\n",
       "      <td>NaN</td>\n",
       "      <td>44.500000</td>\n",
       "    </tr>\n",
       "    <tr>\n",
       "      <th>FEMALE</th>\n",
       "      <td>37.257534</td>\n",
       "      <td>46.573529</td>\n",
       "      <td>45.563793</td>\n",
       "    </tr>\n",
       "    <tr>\n",
       "      <th>MALE</th>\n",
       "      <td>40.390411</td>\n",
       "      <td>51.094118</td>\n",
       "      <td>49.473770</td>\n",
       "    </tr>\n",
       "  </tbody>\n",
       "</table>\n",
       "</div>"
      ],
      "text/plain": [
       "species     Adelie  Chinstrap     Gentoo\n",
       "sex                                     \n",
       ".              NaN        NaN  44.500000\n",
       "FEMALE   37.257534  46.573529  45.563793\n",
       "MALE     40.390411  51.094118  49.473770"
      ]
     },
     "execution_count": 9,
     "metadata": {},
     "output_type": "execute_result"
    }
   ],
   "source": [
    "penguins.pivot_table('culmen_length_mm', index='sex', columns='species')"
   ]
  },
  {
   "cell_type": "code",
   "execution_count": 10,
   "metadata": {},
   "outputs": [
    {
     "data": {
      "text/html": [
       "<div>\n",
       "<style scoped>\n",
       "    .dataframe tbody tr th:only-of-type {\n",
       "        vertical-align: middle;\n",
       "    }\n",
       "\n",
       "    .dataframe tbody tr th {\n",
       "        vertical-align: top;\n",
       "    }\n",
       "\n",
       "    .dataframe thead th {\n",
       "        text-align: right;\n",
       "    }\n",
       "</style>\n",
       "<table border=\"1\" class=\"dataframe\">\n",
       "  <thead>\n",
       "    <tr style=\"text-align: right;\">\n",
       "      <th>species</th>\n",
       "      <th>Adelie</th>\n",
       "      <th>Chinstrap</th>\n",
       "      <th>Gentoo</th>\n",
       "    </tr>\n",
       "    <tr>\n",
       "      <th>sex</th>\n",
       "      <th></th>\n",
       "      <th></th>\n",
       "      <th></th>\n",
       "    </tr>\n",
       "  </thead>\n",
       "  <tbody>\n",
       "    <tr>\n",
       "      <th>.</th>\n",
       "      <td>NaN</td>\n",
       "      <td>NaN</td>\n",
       "      <td>15.700000</td>\n",
       "    </tr>\n",
       "    <tr>\n",
       "      <th>FEMALE</th>\n",
       "      <td>17.621918</td>\n",
       "      <td>17.588235</td>\n",
       "      <td>14.237931</td>\n",
       "    </tr>\n",
       "    <tr>\n",
       "      <th>MALE</th>\n",
       "      <td>19.072603</td>\n",
       "      <td>19.252941</td>\n",
       "      <td>15.718033</td>\n",
       "    </tr>\n",
       "  </tbody>\n",
       "</table>\n",
       "</div>"
      ],
      "text/plain": [
       "species     Adelie  Chinstrap     Gentoo\n",
       "sex                                     \n",
       ".              NaN        NaN  15.700000\n",
       "FEMALE   17.621918  17.588235  14.237931\n",
       "MALE     19.072603  19.252941  15.718033"
      ]
     },
     "execution_count": 10,
     "metadata": {},
     "output_type": "execute_result"
    }
   ],
   "source": [
    "penguins.pivot_table('culmen_depth_mm', index='sex', columns='species')"
   ]
  },
  {
   "cell_type": "code",
   "execution_count": 11,
   "metadata": {},
   "outputs": [
    {
     "data": {
      "text/html": [
       "<div>\n",
       "<style scoped>\n",
       "    .dataframe tbody tr th:only-of-type {\n",
       "        vertical-align: middle;\n",
       "    }\n",
       "\n",
       "    .dataframe tbody tr th {\n",
       "        vertical-align: top;\n",
       "    }\n",
       "\n",
       "    .dataframe thead th {\n",
       "        text-align: right;\n",
       "    }\n",
       "</style>\n",
       "<table border=\"1\" class=\"dataframe\">\n",
       "  <thead>\n",
       "    <tr style=\"text-align: right;\">\n",
       "      <th>species</th>\n",
       "      <th>Adelie</th>\n",
       "      <th>Chinstrap</th>\n",
       "      <th>Gentoo</th>\n",
       "    </tr>\n",
       "    <tr>\n",
       "      <th>sex</th>\n",
       "      <th></th>\n",
       "      <th></th>\n",
       "      <th></th>\n",
       "    </tr>\n",
       "  </thead>\n",
       "  <tbody>\n",
       "    <tr>\n",
       "      <th>.</th>\n",
       "      <td>NaN</td>\n",
       "      <td>NaN</td>\n",
       "      <td>217.000000</td>\n",
       "    </tr>\n",
       "    <tr>\n",
       "      <th>FEMALE</th>\n",
       "      <td>187.794521</td>\n",
       "      <td>191.735294</td>\n",
       "      <td>212.706897</td>\n",
       "    </tr>\n",
       "    <tr>\n",
       "      <th>MALE</th>\n",
       "      <td>192.410959</td>\n",
       "      <td>199.911765</td>\n",
       "      <td>221.540984</td>\n",
       "    </tr>\n",
       "  </tbody>\n",
       "</table>\n",
       "</div>"
      ],
      "text/plain": [
       "species      Adelie   Chinstrap      Gentoo\n",
       "sex                                        \n",
       ".               NaN         NaN  217.000000\n",
       "FEMALE   187.794521  191.735294  212.706897\n",
       "MALE     192.410959  199.911765  221.540984"
      ]
     },
     "execution_count": 11,
     "metadata": {},
     "output_type": "execute_result"
    }
   ],
   "source": [
    "penguins.pivot_table('flipper_length_mm', index='sex', columns='species')"
   ]
  },
  {
   "cell_type": "code",
   "execution_count": 12,
   "metadata": {},
   "outputs": [
    {
     "data": {
      "text/plain": [
       "species               0\n",
       "island                0\n",
       "culmen_length_mm      2\n",
       "culmen_depth_mm       2\n",
       "flipper_length_mm     2\n",
       "body_mass_g           2\n",
       "sex                  10\n",
       "dtype: int64"
      ]
     },
     "execution_count": 12,
     "metadata": {},
     "output_type": "execute_result"
    }
   ],
   "source": [
    "penguins.isnull().sum()"
   ]
  },
  {
   "cell_type": "code",
   "execution_count": 13,
   "metadata": {},
   "outputs": [
    {
     "data": {
      "text/html": [
       "<div>\n",
       "<style scoped>\n",
       "    .dataframe tbody tr th:only-of-type {\n",
       "        vertical-align: middle;\n",
       "    }\n",
       "\n",
       "    .dataframe tbody tr th {\n",
       "        vertical-align: top;\n",
       "    }\n",
       "\n",
       "    .dataframe thead th {\n",
       "        text-align: right;\n",
       "    }\n",
       "</style>\n",
       "<table border=\"1\" class=\"dataframe\">\n",
       "  <thead>\n",
       "    <tr style=\"text-align: right;\">\n",
       "      <th></th>\n",
       "      <th>species</th>\n",
       "      <th>island</th>\n",
       "      <th>culmen_length_mm</th>\n",
       "      <th>culmen_depth_mm</th>\n",
       "      <th>flipper_length_mm</th>\n",
       "      <th>body_mass_g</th>\n",
       "      <th>sex</th>\n",
       "    </tr>\n",
       "  </thead>\n",
       "  <tbody>\n",
       "    <tr>\n",
       "      <th>3</th>\n",
       "      <td>Adelie</td>\n",
       "      <td>Torgersen</td>\n",
       "      <td>NaN</td>\n",
       "      <td>NaN</td>\n",
       "      <td>NaN</td>\n",
       "      <td>NaN</td>\n",
       "      <td>NaN</td>\n",
       "    </tr>\n",
       "    <tr>\n",
       "      <th>8</th>\n",
       "      <td>Adelie</td>\n",
       "      <td>Torgersen</td>\n",
       "      <td>34.1</td>\n",
       "      <td>18.1</td>\n",
       "      <td>193.0</td>\n",
       "      <td>3475.0</td>\n",
       "      <td>NaN</td>\n",
       "    </tr>\n",
       "    <tr>\n",
       "      <th>9</th>\n",
       "      <td>Adelie</td>\n",
       "      <td>Torgersen</td>\n",
       "      <td>42.0</td>\n",
       "      <td>20.2</td>\n",
       "      <td>190.0</td>\n",
       "      <td>4250.0</td>\n",
       "      <td>NaN</td>\n",
       "    </tr>\n",
       "    <tr>\n",
       "      <th>10</th>\n",
       "      <td>Adelie</td>\n",
       "      <td>Torgersen</td>\n",
       "      <td>37.8</td>\n",
       "      <td>17.1</td>\n",
       "      <td>186.0</td>\n",
       "      <td>3300.0</td>\n",
       "      <td>NaN</td>\n",
       "    </tr>\n",
       "    <tr>\n",
       "      <th>11</th>\n",
       "      <td>Adelie</td>\n",
       "      <td>Torgersen</td>\n",
       "      <td>37.8</td>\n",
       "      <td>17.3</td>\n",
       "      <td>180.0</td>\n",
       "      <td>3700.0</td>\n",
       "      <td>NaN</td>\n",
       "    </tr>\n",
       "    <tr>\n",
       "      <th>47</th>\n",
       "      <td>Adelie</td>\n",
       "      <td>Dream</td>\n",
       "      <td>37.5</td>\n",
       "      <td>18.9</td>\n",
       "      <td>179.0</td>\n",
       "      <td>2975.0</td>\n",
       "      <td>NaN</td>\n",
       "    </tr>\n",
       "    <tr>\n",
       "      <th>246</th>\n",
       "      <td>Gentoo</td>\n",
       "      <td>Biscoe</td>\n",
       "      <td>44.5</td>\n",
       "      <td>14.3</td>\n",
       "      <td>216.0</td>\n",
       "      <td>4100.0</td>\n",
       "      <td>NaN</td>\n",
       "    </tr>\n",
       "    <tr>\n",
       "      <th>286</th>\n",
       "      <td>Gentoo</td>\n",
       "      <td>Biscoe</td>\n",
       "      <td>46.2</td>\n",
       "      <td>14.4</td>\n",
       "      <td>214.0</td>\n",
       "      <td>4650.0</td>\n",
       "      <td>NaN</td>\n",
       "    </tr>\n",
       "    <tr>\n",
       "      <th>324</th>\n",
       "      <td>Gentoo</td>\n",
       "      <td>Biscoe</td>\n",
       "      <td>47.3</td>\n",
       "      <td>13.8</td>\n",
       "      <td>216.0</td>\n",
       "      <td>4725.0</td>\n",
       "      <td>NaN</td>\n",
       "    </tr>\n",
       "    <tr>\n",
       "      <th>339</th>\n",
       "      <td>Gentoo</td>\n",
       "      <td>Biscoe</td>\n",
       "      <td>NaN</td>\n",
       "      <td>NaN</td>\n",
       "      <td>NaN</td>\n",
       "      <td>NaN</td>\n",
       "      <td>NaN</td>\n",
       "    </tr>\n",
       "  </tbody>\n",
       "</table>\n",
       "</div>"
      ],
      "text/plain": [
       "    species     island  culmen_length_mm  culmen_depth_mm  flipper_length_mm  \\\n",
       "3    Adelie  Torgersen               NaN              NaN                NaN   \n",
       "8    Adelie  Torgersen              34.1             18.1              193.0   \n",
       "9    Adelie  Torgersen              42.0             20.2              190.0   \n",
       "10   Adelie  Torgersen              37.8             17.1              186.0   \n",
       "11   Adelie  Torgersen              37.8             17.3              180.0   \n",
       "47   Adelie      Dream              37.5             18.9              179.0   \n",
       "246  Gentoo     Biscoe              44.5             14.3              216.0   \n",
       "286  Gentoo     Biscoe              46.2             14.4              214.0   \n",
       "324  Gentoo     Biscoe              47.3             13.8              216.0   \n",
       "339  Gentoo     Biscoe               NaN              NaN                NaN   \n",
       "\n",
       "     body_mass_g  sex  \n",
       "3            NaN  NaN  \n",
       "8         3475.0  NaN  \n",
       "9         4250.0  NaN  \n",
       "10        3300.0  NaN  \n",
       "11        3700.0  NaN  \n",
       "47        2975.0  NaN  \n",
       "246       4100.0  NaN  \n",
       "286       4650.0  NaN  \n",
       "324       4725.0  NaN  \n",
       "339          NaN  NaN  "
      ]
     },
     "execution_count": 13,
     "metadata": {},
     "output_type": "execute_result"
    }
   ],
   "source": [
    "penguins[penguins['sex'].isnull() == True]"
   ]
  },
  {
   "cell_type": "markdown",
   "metadata": {},
   "source": [
    "We found the missing values for some of our datas above. The way we want to handle missing values is to fill Row 3 and 339 with the average values for culmen_length_mm, culmen_depth_mm, flipper_length_mm & body_mass_g. As for sex we want to input 'female' and 'male' based on the body mass of the penguin. The way we want to do that is by finding the midpoint between the average body mass between male and female penguin for each species and using that midpoint as the criteria to fill our penguin's gender."
   ]
  },
  {
   "cell_type": "code",
   "execution_count": 14,
   "metadata": {},
   "outputs": [
    {
     "data": {
      "text/html": [
       "<div>\n",
       "<style scoped>\n",
       "    .dataframe tbody tr th:only-of-type {\n",
       "        vertical-align: middle;\n",
       "    }\n",
       "\n",
       "    .dataframe tbody tr th {\n",
       "        vertical-align: top;\n",
       "    }\n",
       "\n",
       "    .dataframe thead th {\n",
       "        text-align: right;\n",
       "    }\n",
       "</style>\n",
       "<table border=\"1\" class=\"dataframe\">\n",
       "  <thead>\n",
       "    <tr style=\"text-align: right;\">\n",
       "      <th></th>\n",
       "      <th>species</th>\n",
       "      <th>island</th>\n",
       "      <th>culmen_length_mm</th>\n",
       "      <th>culmen_depth_mm</th>\n",
       "      <th>flipper_length_mm</th>\n",
       "      <th>body_mass_g</th>\n",
       "      <th>sex</th>\n",
       "    </tr>\n",
       "  </thead>\n",
       "  <tbody>\n",
       "    <tr>\n",
       "      <th>0</th>\n",
       "      <td>Adelie</td>\n",
       "      <td>Torgersen</td>\n",
       "      <td>39.1</td>\n",
       "      <td>18.7</td>\n",
       "      <td>181.0</td>\n",
       "      <td>3750.0</td>\n",
       "      <td>MALE</td>\n",
       "    </tr>\n",
       "    <tr>\n",
       "      <th>1</th>\n",
       "      <td>Adelie</td>\n",
       "      <td>Torgersen</td>\n",
       "      <td>39.5</td>\n",
       "      <td>17.4</td>\n",
       "      <td>186.0</td>\n",
       "      <td>3800.0</td>\n",
       "      <td>FEMALE</td>\n",
       "    </tr>\n",
       "    <tr>\n",
       "      <th>2</th>\n",
       "      <td>Adelie</td>\n",
       "      <td>Torgersen</td>\n",
       "      <td>40.3</td>\n",
       "      <td>18.0</td>\n",
       "      <td>195.0</td>\n",
       "      <td>3250.0</td>\n",
       "      <td>FEMALE</td>\n",
       "    </tr>\n",
       "    <tr>\n",
       "      <th>4</th>\n",
       "      <td>Adelie</td>\n",
       "      <td>Torgersen</td>\n",
       "      <td>36.7</td>\n",
       "      <td>19.3</td>\n",
       "      <td>193.0</td>\n",
       "      <td>3450.0</td>\n",
       "      <td>FEMALE</td>\n",
       "    </tr>\n",
       "    <tr>\n",
       "      <th>5</th>\n",
       "      <td>Adelie</td>\n",
       "      <td>Torgersen</td>\n",
       "      <td>39.3</td>\n",
       "      <td>20.6</td>\n",
       "      <td>190.0</td>\n",
       "      <td>3650.0</td>\n",
       "      <td>MALE</td>\n",
       "    </tr>\n",
       "    <tr>\n",
       "      <th>...</th>\n",
       "      <td>...</td>\n",
       "      <td>...</td>\n",
       "      <td>...</td>\n",
       "      <td>...</td>\n",
       "      <td>...</td>\n",
       "      <td>...</td>\n",
       "      <td>...</td>\n",
       "    </tr>\n",
       "    <tr>\n",
       "      <th>338</th>\n",
       "      <td>Gentoo</td>\n",
       "      <td>Biscoe</td>\n",
       "      <td>47.2</td>\n",
       "      <td>13.7</td>\n",
       "      <td>214.0</td>\n",
       "      <td>4925.0</td>\n",
       "      <td>FEMALE</td>\n",
       "    </tr>\n",
       "    <tr>\n",
       "      <th>340</th>\n",
       "      <td>Gentoo</td>\n",
       "      <td>Biscoe</td>\n",
       "      <td>46.8</td>\n",
       "      <td>14.3</td>\n",
       "      <td>215.0</td>\n",
       "      <td>4850.0</td>\n",
       "      <td>FEMALE</td>\n",
       "    </tr>\n",
       "    <tr>\n",
       "      <th>341</th>\n",
       "      <td>Gentoo</td>\n",
       "      <td>Biscoe</td>\n",
       "      <td>50.4</td>\n",
       "      <td>15.7</td>\n",
       "      <td>222.0</td>\n",
       "      <td>5750.0</td>\n",
       "      <td>MALE</td>\n",
       "    </tr>\n",
       "    <tr>\n",
       "      <th>342</th>\n",
       "      <td>Gentoo</td>\n",
       "      <td>Biscoe</td>\n",
       "      <td>45.2</td>\n",
       "      <td>14.8</td>\n",
       "      <td>212.0</td>\n",
       "      <td>5200.0</td>\n",
       "      <td>FEMALE</td>\n",
       "    </tr>\n",
       "    <tr>\n",
       "      <th>343</th>\n",
       "      <td>Gentoo</td>\n",
       "      <td>Biscoe</td>\n",
       "      <td>49.9</td>\n",
       "      <td>16.1</td>\n",
       "      <td>213.0</td>\n",
       "      <td>5400.0</td>\n",
       "      <td>MALE</td>\n",
       "    </tr>\n",
       "  </tbody>\n",
       "</table>\n",
       "<p>342 rows × 7 columns</p>\n",
       "</div>"
      ],
      "text/plain": [
       "    species     island  culmen_length_mm  culmen_depth_mm  flipper_length_mm  \\\n",
       "0    Adelie  Torgersen              39.1             18.7              181.0   \n",
       "1    Adelie  Torgersen              39.5             17.4              186.0   \n",
       "2    Adelie  Torgersen              40.3             18.0              195.0   \n",
       "4    Adelie  Torgersen              36.7             19.3              193.0   \n",
       "5    Adelie  Torgersen              39.3             20.6              190.0   \n",
       "..      ...        ...               ...              ...                ...   \n",
       "338  Gentoo     Biscoe              47.2             13.7              214.0   \n",
       "340  Gentoo     Biscoe              46.8             14.3              215.0   \n",
       "341  Gentoo     Biscoe              50.4             15.7              222.0   \n",
       "342  Gentoo     Biscoe              45.2             14.8              212.0   \n",
       "343  Gentoo     Biscoe              49.9             16.1              213.0   \n",
       "\n",
       "     body_mass_g     sex  \n",
       "0         3750.0    MALE  \n",
       "1         3800.0  FEMALE  \n",
       "2         3250.0  FEMALE  \n",
       "4         3450.0  FEMALE  \n",
       "5         3650.0    MALE  \n",
       "..           ...     ...  \n",
       "338       4925.0  FEMALE  \n",
       "340       4850.0  FEMALE  \n",
       "341       5750.0    MALE  \n",
       "342       5200.0  FEMALE  \n",
       "343       5400.0    MALE  \n",
       "\n",
       "[342 rows x 7 columns]"
      ]
     },
     "execution_count": 14,
     "metadata": {},
     "output_type": "execute_result"
    }
   ],
   "source": [
    "penguins = penguins.dropna(subset=['flipper_length_mm'], how='all')\n",
    "penguins\n"
   ]
  },
  {
   "cell_type": "code",
   "execution_count": 15,
   "metadata": {},
   "outputs": [
    {
     "data": {
      "text/html": [
       "<div>\n",
       "<style scoped>\n",
       "    .dataframe tbody tr th:only-of-type {\n",
       "        vertical-align: middle;\n",
       "    }\n",
       "\n",
       "    .dataframe tbody tr th {\n",
       "        vertical-align: top;\n",
       "    }\n",
       "\n",
       "    .dataframe thead th {\n",
       "        text-align: right;\n",
       "    }\n",
       "</style>\n",
       "<table border=\"1\" class=\"dataframe\">\n",
       "  <thead>\n",
       "    <tr style=\"text-align: right;\">\n",
       "      <th></th>\n",
       "      <th>species</th>\n",
       "      <th>island</th>\n",
       "      <th>culmen_length_mm</th>\n",
       "      <th>culmen_depth_mm</th>\n",
       "      <th>flipper_length_mm</th>\n",
       "      <th>body_mass_g</th>\n",
       "      <th>sex</th>\n",
       "    </tr>\n",
       "  </thead>\n",
       "  <tbody>\n",
       "    <tr>\n",
       "      <th>8</th>\n",
       "      <td>Adelie</td>\n",
       "      <td>Torgersen</td>\n",
       "      <td>34.1</td>\n",
       "      <td>18.1</td>\n",
       "      <td>193.0</td>\n",
       "      <td>3475.0</td>\n",
       "      <td>NaN</td>\n",
       "    </tr>\n",
       "    <tr>\n",
       "      <th>9</th>\n",
       "      <td>Adelie</td>\n",
       "      <td>Torgersen</td>\n",
       "      <td>42.0</td>\n",
       "      <td>20.2</td>\n",
       "      <td>190.0</td>\n",
       "      <td>4250.0</td>\n",
       "      <td>NaN</td>\n",
       "    </tr>\n",
       "    <tr>\n",
       "      <th>10</th>\n",
       "      <td>Adelie</td>\n",
       "      <td>Torgersen</td>\n",
       "      <td>37.8</td>\n",
       "      <td>17.1</td>\n",
       "      <td>186.0</td>\n",
       "      <td>3300.0</td>\n",
       "      <td>NaN</td>\n",
       "    </tr>\n",
       "    <tr>\n",
       "      <th>11</th>\n",
       "      <td>Adelie</td>\n",
       "      <td>Torgersen</td>\n",
       "      <td>37.8</td>\n",
       "      <td>17.3</td>\n",
       "      <td>180.0</td>\n",
       "      <td>3700.0</td>\n",
       "      <td>NaN</td>\n",
       "    </tr>\n",
       "    <tr>\n",
       "      <th>47</th>\n",
       "      <td>Adelie</td>\n",
       "      <td>Dream</td>\n",
       "      <td>37.5</td>\n",
       "      <td>18.9</td>\n",
       "      <td>179.0</td>\n",
       "      <td>2975.0</td>\n",
       "      <td>NaN</td>\n",
       "    </tr>\n",
       "    <tr>\n",
       "      <th>246</th>\n",
       "      <td>Gentoo</td>\n",
       "      <td>Biscoe</td>\n",
       "      <td>44.5</td>\n",
       "      <td>14.3</td>\n",
       "      <td>216.0</td>\n",
       "      <td>4100.0</td>\n",
       "      <td>NaN</td>\n",
       "    </tr>\n",
       "    <tr>\n",
       "      <th>286</th>\n",
       "      <td>Gentoo</td>\n",
       "      <td>Biscoe</td>\n",
       "      <td>46.2</td>\n",
       "      <td>14.4</td>\n",
       "      <td>214.0</td>\n",
       "      <td>4650.0</td>\n",
       "      <td>NaN</td>\n",
       "    </tr>\n",
       "    <tr>\n",
       "      <th>324</th>\n",
       "      <td>Gentoo</td>\n",
       "      <td>Biscoe</td>\n",
       "      <td>47.3</td>\n",
       "      <td>13.8</td>\n",
       "      <td>216.0</td>\n",
       "      <td>4725.0</td>\n",
       "      <td>NaN</td>\n",
       "    </tr>\n",
       "  </tbody>\n",
       "</table>\n",
       "</div>"
      ],
      "text/plain": [
       "    species     island  culmen_length_mm  culmen_depth_mm  flipper_length_mm  \\\n",
       "8    Adelie  Torgersen              34.1             18.1              193.0   \n",
       "9    Adelie  Torgersen              42.0             20.2              190.0   \n",
       "10   Adelie  Torgersen              37.8             17.1              186.0   \n",
       "11   Adelie  Torgersen              37.8             17.3              180.0   \n",
       "47   Adelie      Dream              37.5             18.9              179.0   \n",
       "246  Gentoo     Biscoe              44.5             14.3              216.0   \n",
       "286  Gentoo     Biscoe              46.2             14.4              214.0   \n",
       "324  Gentoo     Biscoe              47.3             13.8              216.0   \n",
       "\n",
       "     body_mass_g  sex  \n",
       "8         3475.0  NaN  \n",
       "9         4250.0  NaN  \n",
       "10        3300.0  NaN  \n",
       "11        3700.0  NaN  \n",
       "47        2975.0  NaN  \n",
       "246       4100.0  NaN  \n",
       "286       4650.0  NaN  \n",
       "324       4725.0  NaN  "
      ]
     },
     "execution_count": 15,
     "metadata": {},
     "output_type": "execute_result"
    }
   ],
   "source": [
    "penguins[penguins['sex'].isnull() == True]"
   ]
  },
  {
   "cell_type": "code",
   "execution_count": 16,
   "metadata": {},
   "outputs": [
    {
     "data": {
      "text/html": [
       "<div>\n",
       "<style scoped>\n",
       "    .dataframe tbody tr th:only-of-type {\n",
       "        vertical-align: middle;\n",
       "    }\n",
       "\n",
       "    .dataframe tbody tr th {\n",
       "        vertical-align: top;\n",
       "    }\n",
       "\n",
       "    .dataframe thead th {\n",
       "        text-align: right;\n",
       "    }\n",
       "</style>\n",
       "<table border=\"1\" class=\"dataframe\">\n",
       "  <thead>\n",
       "    <tr style=\"text-align: right;\">\n",
       "      <th>species</th>\n",
       "      <th>Adelie</th>\n",
       "      <th>Chinstrap</th>\n",
       "      <th>Gentoo</th>\n",
       "    </tr>\n",
       "    <tr>\n",
       "      <th>sex</th>\n",
       "      <th></th>\n",
       "      <th></th>\n",
       "      <th></th>\n",
       "    </tr>\n",
       "  </thead>\n",
       "  <tbody>\n",
       "    <tr>\n",
       "      <th>.</th>\n",
       "      <td>NaN</td>\n",
       "      <td>NaN</td>\n",
       "      <td>4875.000000</td>\n",
       "    </tr>\n",
       "    <tr>\n",
       "      <th>FEMALE</th>\n",
       "      <td>3368.835616</td>\n",
       "      <td>3527.205882</td>\n",
       "      <td>4679.741379</td>\n",
       "    </tr>\n",
       "    <tr>\n",
       "      <th>MALE</th>\n",
       "      <td>4043.493151</td>\n",
       "      <td>3938.970588</td>\n",
       "      <td>5484.836066</td>\n",
       "    </tr>\n",
       "  </tbody>\n",
       "</table>\n",
       "</div>"
      ],
      "text/plain": [
       "species       Adelie    Chinstrap       Gentoo\n",
       "sex                                           \n",
       ".                NaN          NaN  4875.000000\n",
       "FEMALE   3368.835616  3527.205882  4679.741379\n",
       "MALE     4043.493151  3938.970588  5484.836066"
      ]
     },
     "execution_count": 16,
     "metadata": {},
     "output_type": "execute_result"
    }
   ],
   "source": [
    "penguins.pivot_table('body_mass_g', index='sex', columns='species')"
   ]
  },
  {
   "cell_type": "code",
   "execution_count": 17,
   "metadata": {},
   "outputs": [
    {
     "data": {
      "text/html": [
       "<div>\n",
       "<style scoped>\n",
       "    .dataframe tbody tr th:only-of-type {\n",
       "        vertical-align: middle;\n",
       "    }\n",
       "\n",
       "    .dataframe tbody tr th {\n",
       "        vertical-align: top;\n",
       "    }\n",
       "\n",
       "    .dataframe thead th {\n",
       "        text-align: right;\n",
       "    }\n",
       "</style>\n",
       "<table border=\"1\" class=\"dataframe\">\n",
       "  <thead>\n",
       "    <tr style=\"text-align: right;\">\n",
       "      <th></th>\n",
       "      <th>species</th>\n",
       "      <th>island</th>\n",
       "      <th>culmen_length_mm</th>\n",
       "      <th>culmen_depth_mm</th>\n",
       "      <th>flipper_length_mm</th>\n",
       "      <th>body_mass_g</th>\n",
       "      <th>sex</th>\n",
       "    </tr>\n",
       "  </thead>\n",
       "  <tbody>\n",
       "    <tr>\n",
       "      <th>336</th>\n",
       "      <td>Gentoo</td>\n",
       "      <td>Biscoe</td>\n",
       "      <td>44.5</td>\n",
       "      <td>15.7</td>\n",
       "      <td>217.0</td>\n",
       "      <td>4875.0</td>\n",
       "      <td>.</td>\n",
       "    </tr>\n",
       "  </tbody>\n",
       "</table>\n",
       "</div>"
      ],
      "text/plain": [
       "    species  island  culmen_length_mm  culmen_depth_mm  flipper_length_mm  \\\n",
       "336  Gentoo  Biscoe              44.5             15.7              217.0   \n",
       "\n",
       "     body_mass_g sex  \n",
       "336       4875.0   .  "
      ]
     },
     "execution_count": 17,
     "metadata": {},
     "output_type": "execute_result"
    }
   ],
   "source": [
    "penguins[penguins['sex'] == '.']"
   ]
  },
  {
   "cell_type": "code",
   "execution_count": 18,
   "metadata": {},
   "outputs": [
    {
     "name": "stderr",
     "output_type": "stream",
     "text": [
      "/Users/taswarkarim/opt/anaconda3/lib/python3.9/site-packages/pandas/core/series.py:1056: SettingWithCopyWarning: \n",
      "A value is trying to be set on a copy of a slice from a DataFrame\n",
      "\n",
      "See the caveats in the documentation: https://pandas.pydata.org/pandas-docs/stable/user_guide/indexing.html#returning-a-view-versus-a-copy\n",
      "  cacher_needs_updating = self._check_is_chained_assignment_possible()\n"
     ]
    }
   ],
   "source": [
    "empty_sex_record = penguins.iloc[335]\n",
    "empty_sex_record['sex'] = 'FEMALE'\n",
    "empty_sex_record\n",
    "penguins.iloc[335] = empty_sex_record"
   ]
  },
  {
   "cell_type": "markdown",
   "metadata": {},
   "source": [
    "Rationale: Looking at the number of missing data and the available data for average body mass between the male and female penguins we notice that most of the penguins with missing 'sex' data were more likely to be female based on the values recorded for their body mass. Since we only have 8 missing 'sex' data we will decide to fill them with 'Female'"
   ]
  },
  {
   "cell_type": "code",
   "execution_count": 19,
   "metadata": {},
   "outputs": [
    {
     "data": {
      "text/html": [
       "<div>\n",
       "<style scoped>\n",
       "    .dataframe tbody tr th:only-of-type {\n",
       "        vertical-align: middle;\n",
       "    }\n",
       "\n",
       "    .dataframe tbody tr th {\n",
       "        vertical-align: top;\n",
       "    }\n",
       "\n",
       "    .dataframe thead th {\n",
       "        text-align: right;\n",
       "    }\n",
       "</style>\n",
       "<table border=\"1\" class=\"dataframe\">\n",
       "  <thead>\n",
       "    <tr style=\"text-align: right;\">\n",
       "      <th></th>\n",
       "      <th>species</th>\n",
       "      <th>island</th>\n",
       "      <th>culmen_length_mm</th>\n",
       "      <th>culmen_depth_mm</th>\n",
       "      <th>flipper_length_mm</th>\n",
       "      <th>body_mass_g</th>\n",
       "      <th>sex</th>\n",
       "    </tr>\n",
       "  </thead>\n",
       "  <tbody>\n",
       "    <tr>\n",
       "      <th>0</th>\n",
       "      <td>Adelie</td>\n",
       "      <td>Torgersen</td>\n",
       "      <td>39.1</td>\n",
       "      <td>18.7</td>\n",
       "      <td>181.0</td>\n",
       "      <td>3750.0</td>\n",
       "      <td>MALE</td>\n",
       "    </tr>\n",
       "    <tr>\n",
       "      <th>1</th>\n",
       "      <td>Adelie</td>\n",
       "      <td>Torgersen</td>\n",
       "      <td>39.5</td>\n",
       "      <td>17.4</td>\n",
       "      <td>186.0</td>\n",
       "      <td>3800.0</td>\n",
       "      <td>FEMALE</td>\n",
       "    </tr>\n",
       "    <tr>\n",
       "      <th>2</th>\n",
       "      <td>Adelie</td>\n",
       "      <td>Torgersen</td>\n",
       "      <td>40.3</td>\n",
       "      <td>18.0</td>\n",
       "      <td>195.0</td>\n",
       "      <td>3250.0</td>\n",
       "      <td>FEMALE</td>\n",
       "    </tr>\n",
       "    <tr>\n",
       "      <th>4</th>\n",
       "      <td>Adelie</td>\n",
       "      <td>Torgersen</td>\n",
       "      <td>36.7</td>\n",
       "      <td>19.3</td>\n",
       "      <td>193.0</td>\n",
       "      <td>3450.0</td>\n",
       "      <td>FEMALE</td>\n",
       "    </tr>\n",
       "    <tr>\n",
       "      <th>5</th>\n",
       "      <td>Adelie</td>\n",
       "      <td>Torgersen</td>\n",
       "      <td>39.3</td>\n",
       "      <td>20.6</td>\n",
       "      <td>190.0</td>\n",
       "      <td>3650.0</td>\n",
       "      <td>MALE</td>\n",
       "    </tr>\n",
       "    <tr>\n",
       "      <th>...</th>\n",
       "      <td>...</td>\n",
       "      <td>...</td>\n",
       "      <td>...</td>\n",
       "      <td>...</td>\n",
       "      <td>...</td>\n",
       "      <td>...</td>\n",
       "      <td>...</td>\n",
       "    </tr>\n",
       "    <tr>\n",
       "      <th>338</th>\n",
       "      <td>Gentoo</td>\n",
       "      <td>Biscoe</td>\n",
       "      <td>47.2</td>\n",
       "      <td>13.7</td>\n",
       "      <td>214.0</td>\n",
       "      <td>4925.0</td>\n",
       "      <td>FEMALE</td>\n",
       "    </tr>\n",
       "    <tr>\n",
       "      <th>340</th>\n",
       "      <td>Gentoo</td>\n",
       "      <td>Biscoe</td>\n",
       "      <td>46.8</td>\n",
       "      <td>14.3</td>\n",
       "      <td>215.0</td>\n",
       "      <td>4850.0</td>\n",
       "      <td>FEMALE</td>\n",
       "    </tr>\n",
       "    <tr>\n",
       "      <th>341</th>\n",
       "      <td>Gentoo</td>\n",
       "      <td>Biscoe</td>\n",
       "      <td>50.4</td>\n",
       "      <td>15.7</td>\n",
       "      <td>222.0</td>\n",
       "      <td>5750.0</td>\n",
       "      <td>MALE</td>\n",
       "    </tr>\n",
       "    <tr>\n",
       "      <th>342</th>\n",
       "      <td>Gentoo</td>\n",
       "      <td>Biscoe</td>\n",
       "      <td>45.2</td>\n",
       "      <td>14.8</td>\n",
       "      <td>212.0</td>\n",
       "      <td>5200.0</td>\n",
       "      <td>FEMALE</td>\n",
       "    </tr>\n",
       "    <tr>\n",
       "      <th>343</th>\n",
       "      <td>Gentoo</td>\n",
       "      <td>Biscoe</td>\n",
       "      <td>49.9</td>\n",
       "      <td>16.1</td>\n",
       "      <td>213.0</td>\n",
       "      <td>5400.0</td>\n",
       "      <td>MALE</td>\n",
       "    </tr>\n",
       "  </tbody>\n",
       "</table>\n",
       "<p>342 rows × 7 columns</p>\n",
       "</div>"
      ],
      "text/plain": [
       "    species     island  culmen_length_mm  culmen_depth_mm  flipper_length_mm  \\\n",
       "0    Adelie  Torgersen              39.1             18.7              181.0   \n",
       "1    Adelie  Torgersen              39.5             17.4              186.0   \n",
       "2    Adelie  Torgersen              40.3             18.0              195.0   \n",
       "4    Adelie  Torgersen              36.7             19.3              193.0   \n",
       "5    Adelie  Torgersen              39.3             20.6              190.0   \n",
       "..      ...        ...               ...              ...                ...   \n",
       "338  Gentoo     Biscoe              47.2             13.7              214.0   \n",
       "340  Gentoo     Biscoe              46.8             14.3              215.0   \n",
       "341  Gentoo     Biscoe              50.4             15.7              222.0   \n",
       "342  Gentoo     Biscoe              45.2             14.8              212.0   \n",
       "343  Gentoo     Biscoe              49.9             16.1              213.0   \n",
       "\n",
       "     body_mass_g     sex  \n",
       "0         3750.0    MALE  \n",
       "1         3800.0  FEMALE  \n",
       "2         3250.0  FEMALE  \n",
       "4         3450.0  FEMALE  \n",
       "5         3650.0    MALE  \n",
       "..           ...     ...  \n",
       "338       4925.0  FEMALE  \n",
       "340       4850.0  FEMALE  \n",
       "341       5750.0    MALE  \n",
       "342       5200.0  FEMALE  \n",
       "343       5400.0    MALE  \n",
       "\n",
       "[342 rows x 7 columns]"
      ]
     },
     "execution_count": 19,
     "metadata": {},
     "output_type": "execute_result"
    }
   ],
   "source": [
    "penguins = penguins.fillna('FEMALE')\n",
    "penguins"
   ]
  },
  {
   "cell_type": "code",
   "execution_count": 20,
   "metadata": {},
   "outputs": [
    {
     "data": {
      "text/plain": [
       "species              0\n",
       "island               0\n",
       "culmen_length_mm     0\n",
       "culmen_depth_mm      0\n",
       "flipper_length_mm    0\n",
       "body_mass_g          0\n",
       "sex                  0\n",
       "dtype: int64"
      ]
     },
     "execution_count": 20,
     "metadata": {},
     "output_type": "execute_result"
    }
   ],
   "source": [
    "penguins.isnull().sum()"
   ]
  },
  {
   "cell_type": "markdown",
   "metadata": {},
   "source": [
    "Now we have a complete dataset with no missing values. However, in order for a proper prediction we must ensure that our categorical attributes to binary attributes."
   ]
  },
  {
   "cell_type": "code",
   "execution_count": 21,
   "metadata": {},
   "outputs": [
    {
     "data": {
      "text/html": [
       "<div>\n",
       "<style scoped>\n",
       "    .dataframe tbody tr th:only-of-type {\n",
       "        vertical-align: middle;\n",
       "    }\n",
       "\n",
       "    .dataframe tbody tr th {\n",
       "        vertical-align: top;\n",
       "    }\n",
       "\n",
       "    .dataframe thead th {\n",
       "        text-align: right;\n",
       "    }\n",
       "</style>\n",
       "<table border=\"1\" class=\"dataframe\">\n",
       "  <thead>\n",
       "    <tr style=\"text-align: right;\">\n",
       "      <th></th>\n",
       "      <th>species</th>\n",
       "      <th>island</th>\n",
       "      <th>culmen_length_mm</th>\n",
       "      <th>culmen_depth_mm</th>\n",
       "      <th>flipper_length_mm</th>\n",
       "      <th>body_mass_g</th>\n",
       "      <th>sex</th>\n",
       "    </tr>\n",
       "  </thead>\n",
       "  <tbody>\n",
       "    <tr>\n",
       "      <th>0</th>\n",
       "      <td>Adelie</td>\n",
       "      <td>Torgersen</td>\n",
       "      <td>39.1</td>\n",
       "      <td>18.7</td>\n",
       "      <td>181.0</td>\n",
       "      <td>3750.0</td>\n",
       "      <td>0</td>\n",
       "    </tr>\n",
       "    <tr>\n",
       "      <th>1</th>\n",
       "      <td>Adelie</td>\n",
       "      <td>Torgersen</td>\n",
       "      <td>39.5</td>\n",
       "      <td>17.4</td>\n",
       "      <td>186.0</td>\n",
       "      <td>3800.0</td>\n",
       "      <td>1</td>\n",
       "    </tr>\n",
       "    <tr>\n",
       "      <th>2</th>\n",
       "      <td>Adelie</td>\n",
       "      <td>Torgersen</td>\n",
       "      <td>40.3</td>\n",
       "      <td>18.0</td>\n",
       "      <td>195.0</td>\n",
       "      <td>3250.0</td>\n",
       "      <td>1</td>\n",
       "    </tr>\n",
       "    <tr>\n",
       "      <th>4</th>\n",
       "      <td>Adelie</td>\n",
       "      <td>Torgersen</td>\n",
       "      <td>36.7</td>\n",
       "      <td>19.3</td>\n",
       "      <td>193.0</td>\n",
       "      <td>3450.0</td>\n",
       "      <td>1</td>\n",
       "    </tr>\n",
       "    <tr>\n",
       "      <th>5</th>\n",
       "      <td>Adelie</td>\n",
       "      <td>Torgersen</td>\n",
       "      <td>39.3</td>\n",
       "      <td>20.6</td>\n",
       "      <td>190.0</td>\n",
       "      <td>3650.0</td>\n",
       "      <td>0</td>\n",
       "    </tr>\n",
       "    <tr>\n",
       "      <th>...</th>\n",
       "      <td>...</td>\n",
       "      <td>...</td>\n",
       "      <td>...</td>\n",
       "      <td>...</td>\n",
       "      <td>...</td>\n",
       "      <td>...</td>\n",
       "      <td>...</td>\n",
       "    </tr>\n",
       "    <tr>\n",
       "      <th>338</th>\n",
       "      <td>Gentoo</td>\n",
       "      <td>Biscoe</td>\n",
       "      <td>47.2</td>\n",
       "      <td>13.7</td>\n",
       "      <td>214.0</td>\n",
       "      <td>4925.0</td>\n",
       "      <td>1</td>\n",
       "    </tr>\n",
       "    <tr>\n",
       "      <th>340</th>\n",
       "      <td>Gentoo</td>\n",
       "      <td>Biscoe</td>\n",
       "      <td>46.8</td>\n",
       "      <td>14.3</td>\n",
       "      <td>215.0</td>\n",
       "      <td>4850.0</td>\n",
       "      <td>1</td>\n",
       "    </tr>\n",
       "    <tr>\n",
       "      <th>341</th>\n",
       "      <td>Gentoo</td>\n",
       "      <td>Biscoe</td>\n",
       "      <td>50.4</td>\n",
       "      <td>15.7</td>\n",
       "      <td>222.0</td>\n",
       "      <td>5750.0</td>\n",
       "      <td>0</td>\n",
       "    </tr>\n",
       "    <tr>\n",
       "      <th>342</th>\n",
       "      <td>Gentoo</td>\n",
       "      <td>Biscoe</td>\n",
       "      <td>45.2</td>\n",
       "      <td>14.8</td>\n",
       "      <td>212.0</td>\n",
       "      <td>5200.0</td>\n",
       "      <td>1</td>\n",
       "    </tr>\n",
       "    <tr>\n",
       "      <th>343</th>\n",
       "      <td>Gentoo</td>\n",
       "      <td>Biscoe</td>\n",
       "      <td>49.9</td>\n",
       "      <td>16.1</td>\n",
       "      <td>213.0</td>\n",
       "      <td>5400.0</td>\n",
       "      <td>0</td>\n",
       "    </tr>\n",
       "  </tbody>\n",
       "</table>\n",
       "<p>342 rows × 7 columns</p>\n",
       "</div>"
      ],
      "text/plain": [
       "    species     island  culmen_length_mm  culmen_depth_mm  flipper_length_mm  \\\n",
       "0    Adelie  Torgersen              39.1             18.7              181.0   \n",
       "1    Adelie  Torgersen              39.5             17.4              186.0   \n",
       "2    Adelie  Torgersen              40.3             18.0              195.0   \n",
       "4    Adelie  Torgersen              36.7             19.3              193.0   \n",
       "5    Adelie  Torgersen              39.3             20.6              190.0   \n",
       "..      ...        ...               ...              ...                ...   \n",
       "338  Gentoo     Biscoe              47.2             13.7              214.0   \n",
       "340  Gentoo     Biscoe              46.8             14.3              215.0   \n",
       "341  Gentoo     Biscoe              50.4             15.7              222.0   \n",
       "342  Gentoo     Biscoe              45.2             14.8              212.0   \n",
       "343  Gentoo     Biscoe              49.9             16.1              213.0   \n",
       "\n",
       "     body_mass_g  sex  \n",
       "0         3750.0    0  \n",
       "1         3800.0    1  \n",
       "2         3250.0    1  \n",
       "4         3450.0    1  \n",
       "5         3650.0    0  \n",
       "..           ...  ...  \n",
       "338       4925.0    1  \n",
       "340       4850.0    1  \n",
       "341       5750.0    0  \n",
       "342       5200.0    1  \n",
       "343       5400.0    0  \n",
       "\n",
       "[342 rows x 7 columns]"
      ]
     },
     "execution_count": 21,
     "metadata": {},
     "output_type": "execute_result"
    }
   ],
   "source": [
    "gender_num = {'MALE' : 0, 'FEMALE' : 1}\n",
    "\n",
    "penguins['sex'] = penguins['sex'].map(gender_num)\n",
    "penguins"
   ]
  },
  {
   "cell_type": "code",
   "execution_count": 22,
   "metadata": {},
   "outputs": [
    {
     "data": {
      "text/html": [
       "<div>\n",
       "<style scoped>\n",
       "    .dataframe tbody tr th:only-of-type {\n",
       "        vertical-align: middle;\n",
       "    }\n",
       "\n",
       "    .dataframe tbody tr th {\n",
       "        vertical-align: top;\n",
       "    }\n",
       "\n",
       "    .dataframe thead th {\n",
       "        text-align: right;\n",
       "    }\n",
       "</style>\n",
       "<table border=\"1\" class=\"dataframe\">\n",
       "  <thead>\n",
       "    <tr style=\"text-align: right;\">\n",
       "      <th></th>\n",
       "      <th>species</th>\n",
       "      <th>island</th>\n",
       "      <th>culmen_length_mm</th>\n",
       "      <th>culmen_depth_mm</th>\n",
       "      <th>flipper_length_mm</th>\n",
       "      <th>body_mass_g</th>\n",
       "      <th>sex</th>\n",
       "    </tr>\n",
       "  </thead>\n",
       "  <tbody>\n",
       "    <tr>\n",
       "      <th>0</th>\n",
       "      <td>Adelie</td>\n",
       "      <td>0</td>\n",
       "      <td>39.1</td>\n",
       "      <td>18.7</td>\n",
       "      <td>181.0</td>\n",
       "      <td>3750.0</td>\n",
       "      <td>0</td>\n",
       "    </tr>\n",
       "    <tr>\n",
       "      <th>1</th>\n",
       "      <td>Adelie</td>\n",
       "      <td>0</td>\n",
       "      <td>39.5</td>\n",
       "      <td>17.4</td>\n",
       "      <td>186.0</td>\n",
       "      <td>3800.0</td>\n",
       "      <td>1</td>\n",
       "    </tr>\n",
       "    <tr>\n",
       "      <th>2</th>\n",
       "      <td>Adelie</td>\n",
       "      <td>0</td>\n",
       "      <td>40.3</td>\n",
       "      <td>18.0</td>\n",
       "      <td>195.0</td>\n",
       "      <td>3250.0</td>\n",
       "      <td>1</td>\n",
       "    </tr>\n",
       "    <tr>\n",
       "      <th>4</th>\n",
       "      <td>Adelie</td>\n",
       "      <td>0</td>\n",
       "      <td>36.7</td>\n",
       "      <td>19.3</td>\n",
       "      <td>193.0</td>\n",
       "      <td>3450.0</td>\n",
       "      <td>1</td>\n",
       "    </tr>\n",
       "    <tr>\n",
       "      <th>5</th>\n",
       "      <td>Adelie</td>\n",
       "      <td>0</td>\n",
       "      <td>39.3</td>\n",
       "      <td>20.6</td>\n",
       "      <td>190.0</td>\n",
       "      <td>3650.0</td>\n",
       "      <td>0</td>\n",
       "    </tr>\n",
       "    <tr>\n",
       "      <th>...</th>\n",
       "      <td>...</td>\n",
       "      <td>...</td>\n",
       "      <td>...</td>\n",
       "      <td>...</td>\n",
       "      <td>...</td>\n",
       "      <td>...</td>\n",
       "      <td>...</td>\n",
       "    </tr>\n",
       "    <tr>\n",
       "      <th>338</th>\n",
       "      <td>Gentoo</td>\n",
       "      <td>1</td>\n",
       "      <td>47.2</td>\n",
       "      <td>13.7</td>\n",
       "      <td>214.0</td>\n",
       "      <td>4925.0</td>\n",
       "      <td>1</td>\n",
       "    </tr>\n",
       "    <tr>\n",
       "      <th>340</th>\n",
       "      <td>Gentoo</td>\n",
       "      <td>1</td>\n",
       "      <td>46.8</td>\n",
       "      <td>14.3</td>\n",
       "      <td>215.0</td>\n",
       "      <td>4850.0</td>\n",
       "      <td>1</td>\n",
       "    </tr>\n",
       "    <tr>\n",
       "      <th>341</th>\n",
       "      <td>Gentoo</td>\n",
       "      <td>1</td>\n",
       "      <td>50.4</td>\n",
       "      <td>15.7</td>\n",
       "      <td>222.0</td>\n",
       "      <td>5750.0</td>\n",
       "      <td>0</td>\n",
       "    </tr>\n",
       "    <tr>\n",
       "      <th>342</th>\n",
       "      <td>Gentoo</td>\n",
       "      <td>1</td>\n",
       "      <td>45.2</td>\n",
       "      <td>14.8</td>\n",
       "      <td>212.0</td>\n",
       "      <td>5200.0</td>\n",
       "      <td>1</td>\n",
       "    </tr>\n",
       "    <tr>\n",
       "      <th>343</th>\n",
       "      <td>Gentoo</td>\n",
       "      <td>1</td>\n",
       "      <td>49.9</td>\n",
       "      <td>16.1</td>\n",
       "      <td>213.0</td>\n",
       "      <td>5400.0</td>\n",
       "      <td>0</td>\n",
       "    </tr>\n",
       "  </tbody>\n",
       "</table>\n",
       "<p>342 rows × 7 columns</p>\n",
       "</div>"
      ],
      "text/plain": [
       "    species  island  culmen_length_mm  culmen_depth_mm  flipper_length_mm  \\\n",
       "0    Adelie       0              39.1             18.7              181.0   \n",
       "1    Adelie       0              39.5             17.4              186.0   \n",
       "2    Adelie       0              40.3             18.0              195.0   \n",
       "4    Adelie       0              36.7             19.3              193.0   \n",
       "5    Adelie       0              39.3             20.6              190.0   \n",
       "..      ...     ...               ...              ...                ...   \n",
       "338  Gentoo       1              47.2             13.7              214.0   \n",
       "340  Gentoo       1              46.8             14.3              215.0   \n",
       "341  Gentoo       1              50.4             15.7              222.0   \n",
       "342  Gentoo       1              45.2             14.8              212.0   \n",
       "343  Gentoo       1              49.9             16.1              213.0   \n",
       "\n",
       "     body_mass_g  sex  \n",
       "0         3750.0    0  \n",
       "1         3800.0    1  \n",
       "2         3250.0    1  \n",
       "4         3450.0    1  \n",
       "5         3650.0    0  \n",
       "..           ...  ...  \n",
       "338       4925.0    1  \n",
       "340       4850.0    1  \n",
       "341       5750.0    0  \n",
       "342       5200.0    1  \n",
       "343       5400.0    0  \n",
       "\n",
       "[342 rows x 7 columns]"
      ]
     },
     "execution_count": 22,
     "metadata": {},
     "output_type": "execute_result"
    }
   ],
   "source": [
    "island_num = {'Torgersen' : 0, 'Biscoe' : 1, 'Dream' : 2}\n",
    "penguins['island'] = penguins['island'].map(island_num)\n",
    "penguins"
   ]
  },
  {
   "cell_type": "code",
   "execution_count": 23,
   "metadata": {},
   "outputs": [
    {
     "data": {
      "text/plain": [
       "species              0\n",
       "island               0\n",
       "culmen_length_mm     0\n",
       "culmen_depth_mm      0\n",
       "flipper_length_mm    0\n",
       "body_mass_g          0\n",
       "sex                  0\n",
       "dtype: int64"
      ]
     },
     "execution_count": 23,
     "metadata": {},
     "output_type": "execute_result"
    }
   ],
   "source": [
    "penguins.isna().sum()"
   ]
  },
  {
   "cell_type": "code",
   "execution_count": 24,
   "metadata": {},
   "outputs": [],
   "source": [
    "penguins.dropna(inplace=True)"
   ]
  },
  {
   "cell_type": "markdown",
   "metadata": {},
   "source": [
    "<h4> Splitting the data into Training, Validation and Test Sets </h4>\n",
    "\n",
    "For the 60-20-20 Split : We divide data sets to 60% training, 20% test & 20% validation under y_train1, y_val1 and y_test1\n",
    "\n",
    "For the 80-10-10 Split : We divide data sets to 80% training, 10% test & 10% validation under y_train2, y_val2 and y_test2"
   ]
  },
  {
   "cell_type": "code",
   "execution_count": 25,
   "metadata": {},
   "outputs": [],
   "source": [
    "features = penguins.drop('species', axis=1)\n",
    "labels = penguins['species']\n",
    "\n",
    "X_train1, X_test1, y_train1, y_test1 = train_test_split(features, labels, test_size=0.4, random_state=42)\n",
    "X_test1, X_val1, y_test1, y_val1 = train_test_split(X_test1, y_test1, test_size=0.5, random_state=42)\n",
    "\n",
    "X_train2, X_test2, y_train2, y_test2 = train_test_split(features, labels, test_size=0.2, random_state=42)\n",
    "X_test2, X_val2, y_test2, y_val2 = train_test_split(X_test2, y_test2, test_size=0.5, random_state=42)"
   ]
  },
  {
   "cell_type": "code",
   "execution_count": 26,
   "metadata": {},
   "outputs": [
    {
     "name": "stdout",
     "output_type": "stream",
     "text": [
      "0.6\n",
      "0.2\n",
      "0.2\n",
      "0.8\n",
      "0.1\n",
      "0.1\n"
     ]
    }
   ],
   "source": [
    "for dataset in [y_train1, y_val1, y_test1, y_train2, y_val2, y_test2]:\n",
    "    print(round(len(dataset) / len(labels), 2))"
   ]
  },
  {
   "cell_type": "markdown",
   "metadata": {},
   "source": [
    "Now we write out the data for the splits 60-20-20 and 80-10-10 to csv files"
   ]
  },
  {
   "cell_type": "code",
   "execution_count": 27,
   "metadata": {},
   "outputs": [],
   "source": [
    "X_train1.to_csv('./train_features.csv', index=False)\n",
    "X_val1.to_csv('./val_features.csv', index=False)\n",
    "X_test1.to_csv('./test_features.csv', index=False)\n",
    "X_train2.to_csv('./train_features2.csv', index=False)\n",
    "X_val2.to_csv('./val_features2.csv', index=False)\n",
    "X_test2.to_csv('./test_features2.csv', index=False)\n",
    "\n",
    "\n",
    "\n",
    "y_train1.to_csv('./train_labels.csv', index=False)\n",
    "y_val1.to_csv('./val_labels.csv', index=False)\n",
    "y_test1.to_csv('./test_labels.csv', index=False)\n",
    "y_train2.to_csv('./train_labels2.csv', index=False)\n",
    "y_val2.to_csv('./val_labels2.csv', index=False)\n",
    "y_test2.to_csv('./test_labels2.csv', index=False)"
   ]
  },
  {
   "cell_type": "code",
   "execution_count": 28,
   "metadata": {},
   "outputs": [],
   "source": [
    "tr_features = pd.read_csv('train_features.csv')\n",
    "tr_features2 = pd.read_csv('train_features2.csv')\n",
    "tr_labels = pd.read_csv('train_labels.csv')\n",
    "tr_labels2 = pd.read_csv('train_labels2.csv')\n",
    "test_features = pd.read_csv('test_features.csv')\n",
    "test_features2 = pd.read_csv('test_features2.csv')\n",
    "test_labels = pd.read_csv('test_labels.csv')\n",
    "test_labels2 = pd.read_csv('test_labels2.csv')\n",
    "val_features = pd.read_csv('val_features.csv')\n",
    "val_features2 = pd.read_csv('val_features2.csv')\n",
    "val_labels = pd.read_csv('val_labels.csv')\n",
    "val_labels2 = pd.read_csv('val_labels2.csv')\n",
    "\n"
   ]
  },
  {
   "cell_type": "code",
   "execution_count": 29,
   "metadata": {},
   "outputs": [
    {
     "data": {
      "image/png": "[encoded data removed]",
      "text/plain": [
       "<Figure size 720x1080 with 6 Axes>"
      ]
     },
     "metadata": {
      "needs_background": "light"
     },
     "output_type": "display_data"
    }
   ],
   "source": [
    "import numpy as np\n",
    "import matplotlib.pyplot as plt\n",
    "from sklearn.naive_bayes import GaussianNB\n",
    "from sklearn.svm import SVC\n",
    "from sklearn.datasets import load_digits\n",
    "from sklearn.model_selection import learning_curve\n",
    "from sklearn.model_selection import ShuffleSplit\n",
    "\n",
    "\n",
    "def plot_learning_curve(\n",
    "    estimator,\n",
    "    title,\n",
    "    X,\n",
    "    y,\n",
    "    axes=None,\n",
    "    ylim=None,\n",
    "    cv=None,\n",
    "    n_jobs=None,\n",
    "    train_sizes=np.linspace(0.1, 1.0, 5),\n",
    "):\n",
    "    \"\"\"\n",
    "    Generate 3 plots: the test and training learning curve, the training\n",
    "    samples vs fit times curve, the fit times vs score curve.\n",
    "\n",
    "    Parameters\n",
    "    ----------\n",
    "    estimator : estimator instance\n",
    "        An estimator instance implementing `fit` and `predict` methods which\n",
    "        will be cloned for each validation.\n",
    "\n",
    "    title : str\n",
    "        Title for the chart.\n",
    "\n",
    "    X : array-like of shape (n_samples, n_features)\n",
    "        Training vector, where ``n_samples`` is the number of samples and\n",
    "        ``n_features`` is the number of features.\n",
    "\n",
    "    y : array-like of shape (n_samples) or (n_samples, n_features)\n",
    "        Target relative to ``X`` for classification or regression;\n",
    "        None for unsupervised learning.\n",
    "\n",
    "    axes : array-like of shape (3,), default=None\n",
    "        Axes to use for plotting the curves.\n",
    "\n",
    "    ylim : tuple of shape (2,), default=None\n",
    "        Defines minimum and maximum y-values plotted, e.g. (ymin, ymax).\n",
    "\n",
    "    cv : int, cross-validation generator or an iterable, default=None\n",
    "        Determines the cross-validation splitting strategy.\n",
    "        Possible inputs for cv are:\n",
    "\n",
    "          - None, to use the default 5-fold cross-validation,\n",
    "          - integer, to specify the number of folds.\n",
    "          - :term:`CV splitter`,\n",
    "          - An iterable yielding (train, test) splits as arrays of indices.\n",
    "\n",
    "        For integer/None inputs, if ``y`` is binary or multiclass,\n",
    "        :class:`StratifiedKFold` used. If the estimator is not a classifier\n",
    "        or if ``y`` is neither binary nor multiclass, :class:`KFold` is used.\n",
    "\n",
    "        Refer :ref:`User Guide <cross_validation>` for the various\n",
    "        cross-validators that can be used here.\n",
    "\n",
    "    n_jobs : int or None, default=None\n",
    "        Number of jobs to run in parallel.\n",
    "        ``None`` means 1 unless in a :obj:`joblib.parallel_backend` context.\n",
    "        ``-1`` means using all processors. See :term:`Glossary <n_jobs>`\n",
    "        for more details.\n",
    "\n",
    "    train_sizes : array-like of shape (n_ticks,)\n",
    "        Relative or absolute numbers of training examples that will be used to\n",
    "        generate the learning curve. If the ``dtype`` is float, it is regarded\n",
    "        as a fraction of the maximum size of the training set (that is\n",
    "        determined by the selected validation method), i.e. it has to be within\n",
    "        (0, 1]. Otherwise it is interpreted as absolute sizes of the training\n",
    "        sets. Note that for classification the number of samples usually have\n",
    "        to be big enough to contain at least one sample from each class.\n",
    "        (default: np.linspace(0.1, 1.0, 5))\n",
    "    \"\"\"\n",
    "    if axes is None:\n",
    "        _, axes = plt.subplots(1, 3, figsize=(20, 5))\n",
    "\n",
    "    axes[0].set_title(title)\n",
    "    if ylim is not None:\n",
    "        axes[0].set_ylim(*ylim)\n",
    "    axes[0].set_xlabel(\"Training examples\")\n",
    "    axes[0].set_ylabel(\"Score\")\n",
    "\n",
    "    train_sizes, train_scores, test_scores, fit_times, _ = learning_curve(\n",
    "        estimator,\n",
    "        X,\n",
    "        y,\n",
    "        cv=cv,\n",
    "        n_jobs=n_jobs,\n",
    "        train_sizes=train_sizes,\n",
    "        return_times=True,\n",
    "    )\n",
    "    train_scores_mean = np.mean(train_scores, axis=1)\n",
    "    train_scores_std = np.std(train_scores, axis=1)\n",
    "    test_scores_mean = np.mean(test_scores, axis=1)\n",
    "    test_scores_std = np.std(test_scores, axis=1)\n",
    "    fit_times_mean = np.mean(fit_times, axis=1)\n",
    "    fit_times_std = np.std(fit_times, axis=1)\n",
    "\n",
    "    # Plot learning curve\n",
    "    axes[0].grid()\n",
    "    axes[0].fill_between(\n",
    "        train_sizes,\n",
    "        train_scores_mean - train_scores_std,\n",
    "        train_scores_mean + train_scores_std,\n",
    "        alpha=0.1,\n",
    "        color=\"r\",\n",
    "    )\n",
    "    axes[0].fill_between(\n",
    "        train_sizes,\n",
    "        test_scores_mean - test_scores_std,\n",
    "        test_scores_mean + test_scores_std,\n",
    "        alpha=0.1,\n",
    "        color=\"g\",\n",
    "    )\n",
    "    axes[0].plot(\n",
    "        train_sizes, train_scores_mean, \"o-\", color=\"r\", label=\"Training score\"\n",
    "    )\n",
    "    axes[0].plot(\n",
    "        train_sizes, test_scores_mean, \"o-\", color=\"g\", label=\"Cross-validation score\"\n",
    "    )\n",
    "    axes[0].legend(loc=\"best\")\n",
    "\n",
    "    # Plot n_samples vs fit_times\n",
    "    axes[1].grid()\n",
    "    axes[1].plot(train_sizes, fit_times_mean, \"o-\")\n",
    "    axes[1].fill_between(\n",
    "        train_sizes,\n",
    "        fit_times_mean - fit_times_std,\n",
    "        fit_times_mean + fit_times_std,\n",
    "        alpha=0.1,\n",
    "    )\n",
    "    axes[1].set_xlabel(\"Training examples\")\n",
    "    axes[1].set_ylabel(\"fit_times\")\n",
    "    axes[1].set_title(\"Scalability of the model\")\n",
    "\n",
    "    # Plot fit_time vs score\n",
    "    fit_time_argsort = fit_times_mean.argsort()\n",
    "    fit_time_sorted = fit_times_mean[fit_time_argsort]\n",
    "    test_scores_mean_sorted = test_scores_mean[fit_time_argsort]\n",
    "    test_scores_std_sorted = test_scores_std[fit_time_argsort]\n",
    "    axes[2].grid()\n",
    "    axes[2].plot(fit_time_sorted, test_scores_mean_sorted, \"o-\")\n",
    "    axes[2].fill_between(\n",
    "        fit_time_sorted,\n",
    "        test_scores_mean_sorted - test_scores_std_sorted,\n",
    "        test_scores_mean_sorted + test_scores_std_sorted,\n",
    "        alpha=0.1,\n",
    "    )\n",
    "    axes[2].set_xlabel(\"fit_times\")\n",
    "    axes[2].set_ylabel(\"Score\")\n",
    "    axes[2].set_title(\"Performance of the model\")\n",
    "\n",
    "    return plt\n",
    "\n",
    "\n",
    "fig, axes = plt.subplots(3, 2, figsize=(10, 15))\n",
    "\n",
    "X, y = load_digits(return_X_y=True)\n",
    "\n",
    "title = \"Learning Curves (Naive Bayes)\"\n",
    "# Cross validation with 50 iterations to get smoother mean test and train\n",
    "# score curves, each time with 20% data randomly selected as a validation set.\n",
    "cv = ShuffleSplit(n_splits=50, test_size=0.2, random_state=0)\n",
    "\n",
    "estimator = GaussianNB()\n",
    "plot_learning_curve(\n",
    "    estimator, title, X, y, axes=axes[:, 0], ylim=(0.7, 1.01), cv=cv, n_jobs=4\n",
    ")\n",
    "\n",
    "title = r\"Learning Curves (SVM, RBF kernel, $\\gamma=0.001$)\"\n",
    "# SVC is more expensive so we do a lower number of CV iterations:\n",
    "cv = ShuffleSplit(n_splits=5, test_size=0.2, random_state=0)\n",
    "estimator = SVC(gamma=0.001)\n",
    "plot_learning_curve(\n",
    "    estimator, title, X, y, axes=axes[:, 1], ylim=(0.7, 1.01), cv=cv, n_jobs=4\n",
    ")\n",
    "\n",
    "plt.show()"
   ]
  },
  {
   "cell_type": "markdown",
   "metadata": {},
   "source": [
    "<h1> Hyperparameter tuning </h1>"
   ]
  },
  {
   "cell_type": "markdown",
   "metadata": {},
   "source": [
    "First we find the optimal hyperparameters for the 3 algorithms: MLP, RF and GB. \n",
    "We start with the 60-20-20 Train-Test validation ratio"
   ]
  },
  {
   "cell_type": "markdown",
   "metadata": {},
   "source": [
    "####  For Train Test Validation1: Ratio (60-20-20)"
   ]
  },
  {
   "cell_type": "code",
   "execution_count": 30,
   "metadata": {},
   "outputs": [],
   "source": [
    "def print_results(results):\n",
    "    print('BEST PARAMS: {}\\n'.format(results.best_params_))\n",
    "\n",
    "    means = results.cv_results_['mean_test_score']\n",
    "    stds = results.cv_results_['std_test_score']\n",
    "    for mean, std, params in zip(means, stds, results.cv_results_['params']):\n",
    "        print('{} (+/-{}) for {}'.format(round(mean, 3), round(std * 2, 3), params))"
   ]
  },
  {
   "cell_type": "markdown",
   "metadata": {},
   "source": [
    "<h4> ML Algorithms </h4>\n",
    "\n"
   ]
  },
  {
   "cell_type": "markdown",
   "metadata": {},
   "source": [
    "<h4> Multilayer Perceptron </h4>"
   ]
  },
  {
   "cell_type": "code",
   "execution_count": 31,
   "metadata": {},
   "outputs": [
    {
     "name": "stderr",
     "output_type": "stream",
     "text": [
      "/Users/taswarkarim/opt/anaconda3/lib/python3.9/site-packages/sklearn/neural_network/_multilayer_perceptron.py:614: ConvergenceWarning: Stochastic Optimizer: Maximum iterations (200) reached and the optimization hasn't converged yet.\n",
      "  warnings.warn(\n",
      "/Users/taswarkarim/opt/anaconda3/lib/python3.9/site-packages/sklearn/neural_network/_multilayer_perceptron.py:614: ConvergenceWarning: Stochastic Optimizer: Maximum iterations (200) reached and the optimization hasn't converged yet.\n",
      "  warnings.warn(\n",
      "/Users/taswarkarim/opt/anaconda3/lib/python3.9/site-packages/sklearn/neural_network/_multilayer_perceptron.py:614: ConvergenceWarning: Stochastic Optimizer: Maximum iterations (200) reached and the optimization hasn't converged yet.\n",
      "  warnings.warn(\n",
      "/Users/taswarkarim/opt/anaconda3/lib/python3.9/site-packages/sklearn/neural_network/_multilayer_perceptron.py:614: ConvergenceWarning: Stochastic Optimizer: Maximum iterations (200) reached and the optimization hasn't converged yet.\n",
      "  warnings.warn(\n",
      "/Users/taswarkarim/opt/anaconda3/lib/python3.9/site-packages/sklearn/neural_network/_multilayer_perceptron.py:614: ConvergenceWarning: Stochastic Optimizer: Maximum iterations (200) reached and the optimization hasn't converged yet.\n",
      "  warnings.warn(\n",
      "/Users/taswarkarim/opt/anaconda3/lib/python3.9/site-packages/sklearn/neural_network/_multilayer_perceptron.py:614: ConvergenceWarning: Stochastic Optimizer: Maximum iterations (200) reached and the optimization hasn't converged yet.\n",
      "  warnings.warn(\n",
      "/Users/taswarkarim/opt/anaconda3/lib/python3.9/site-packages/sklearn/neural_network/_multilayer_perceptron.py:614: ConvergenceWarning: Stochastic Optimizer: Maximum iterations (200) reached and the optimization hasn't converged yet.\n",
      "  warnings.warn(\n",
      "/Users/taswarkarim/opt/anaconda3/lib/python3.9/site-packages/sklearn/neural_network/_multilayer_perceptron.py:614: ConvergenceWarning: Stochastic Optimizer: Maximum iterations (200) reached and the optimization hasn't converged yet.\n",
      "  warnings.warn(\n",
      "/Users/taswarkarim/opt/anaconda3/lib/python3.9/site-packages/sklearn/neural_network/_multilayer_perceptron.py:614: ConvergenceWarning: Stochastic Optimizer: Maximum iterations (200) reached and the optimization hasn't converged yet.\n",
      "  warnings.warn(\n",
      "/Users/taswarkarim/opt/anaconda3/lib/python3.9/site-packages/sklearn/neural_network/_multilayer_perceptron.py:614: ConvergenceWarning: Stochastic Optimizer: Maximum iterations (200) reached and the optimization hasn't converged yet.\n",
      "  warnings.warn(\n",
      "/Users/taswarkarim/opt/anaconda3/lib/python3.9/site-packages/sklearn/neural_network/_multilayer_perceptron.py:614: ConvergenceWarning: Stochastic Optimizer: Maximum iterations (200) reached and the optimization hasn't converged yet.\n",
      "  warnings.warn(\n",
      "/Users/taswarkarim/opt/anaconda3/lib/python3.9/site-packages/sklearn/neural_network/_multilayer_perceptron.py:614: ConvergenceWarning: Stochastic Optimizer: Maximum iterations (200) reached and the optimization hasn't converged yet.\n",
      "  warnings.warn(\n",
      "/Users/taswarkarim/opt/anaconda3/lib/python3.9/site-packages/sklearn/neural_network/_multilayer_perceptron.py:614: ConvergenceWarning: Stochastic Optimizer: Maximum iterations (200) reached and the optimization hasn't converged yet.\n",
      "  warnings.warn(\n",
      "/Users/taswarkarim/opt/anaconda3/lib/python3.9/site-packages/sklearn/neural_network/_multilayer_perceptron.py:614: ConvergenceWarning: Stochastic Optimizer: Maximum iterations (200) reached and the optimization hasn't converged yet.\n",
      "  warnings.warn(\n",
      "/Users/taswarkarim/opt/anaconda3/lib/python3.9/site-packages/sklearn/neural_network/_multilayer_perceptron.py:614: ConvergenceWarning: Stochastic Optimizer: Maximum iterations (200) reached and the optimization hasn't converged yet.\n",
      "  warnings.warn(\n",
      "/Users/taswarkarim/opt/anaconda3/lib/python3.9/site-packages/sklearn/neural_network/_multilayer_perceptron.py:614: ConvergenceWarning: Stochastic Optimizer: Maximum iterations (200) reached and the optimization hasn't converged yet.\n",
      "  warnings.warn(\n",
      "/Users/taswarkarim/opt/anaconda3/lib/python3.9/site-packages/sklearn/neural_network/_multilayer_perceptron.py:614: ConvergenceWarning: Stochastic Optimizer: Maximum iterations (200) reached and the optimization hasn't converged yet.\n",
      "  warnings.warn(\n",
      "/Users/taswarkarim/opt/anaconda3/lib/python3.9/site-packages/sklearn/neural_network/_multilayer_perceptron.py:614: ConvergenceWarning: Stochastic Optimizer: Maximum iterations (200) reached and the optimization hasn't converged yet.\n",
      "  warnings.warn(\n",
      "/Users/taswarkarim/opt/anaconda3/lib/python3.9/site-packages/sklearn/neural_network/_multilayer_perceptron.py:614: ConvergenceWarning: Stochastic Optimizer: Maximum iterations (200) reached and the optimization hasn't converged yet.\n",
      "  warnings.warn(\n",
      "/Users/taswarkarim/opt/anaconda3/lib/python3.9/site-packages/sklearn/neural_network/_multilayer_perceptron.py:614: ConvergenceWarning: Stochastic Optimizer: Maximum iterations (200) reached and the optimization hasn't converged yet.\n",
      "  warnings.warn(\n",
      "/Users/taswarkarim/opt/anaconda3/lib/python3.9/site-packages/sklearn/neural_network/_multilayer_perceptron.py:614: ConvergenceWarning: Stochastic Optimizer: Maximum iterations (200) reached and the optimization hasn't converged yet.\n",
      "  warnings.warn(\n",
      "/Users/taswarkarim/opt/anaconda3/lib/python3.9/site-packages/sklearn/neural_network/_multilayer_perceptron.py:614: ConvergenceWarning: Stochastic Optimizer: Maximum iterations (200) reached and the optimization hasn't converged yet.\n",
      "  warnings.warn(\n",
      "/Users/taswarkarim/opt/anaconda3/lib/python3.9/site-packages/sklearn/neural_network/_multilayer_perceptron.py:614: ConvergenceWarning: Stochastic Optimizer: Maximum iterations (200) reached and the optimization hasn't converged yet.\n",
      "  warnings.warn(\n"
     ]
    },
    {
     "name": "stdout",
     "output_type": "stream",
     "text": [
      "BEST PARAMS: {'activation': 'logistic', 'hidden_layer_sizes': (100,), 'learning_rate': 'constant'}\n",
      "\n",
      "0.317 (+/-0.172) for {'activation': 'relu', 'hidden_layer_sizes': (10,), 'learning_rate': 'constant'}\n",
      "0.366 (+/-0.278) for {'activation': 'relu', 'hidden_layer_sizes': (10,), 'learning_rate': 'invscaling'}\n",
      "0.361 (+/-0.02) for {'activation': 'relu', 'hidden_layer_sizes': (10,), 'learning_rate': 'adaptive'}\n",
      "0.293 (+/-0.169) for {'activation': 'relu', 'hidden_layer_sizes': (50,), 'learning_rate': 'constant'}\n",
      "0.439 (+/-0.406) for {'activation': 'relu', 'hidden_layer_sizes': (50,), 'learning_rate': 'invscaling'}\n",
      "0.312 (+/-0.161) for {'activation': 'relu', 'hidden_layer_sizes': (50,), 'learning_rate': 'adaptive'}\n",
      "0.42 (+/-0.152) for {'activation': 'relu', 'hidden_layer_sizes': (100,), 'learning_rate': 'constant'}\n",
      "0.405 (+/-0.303) for {'activation': 'relu', 'hidden_layer_sizes': (100,), 'learning_rate': 'invscaling'}\n",
      "0.356 (+/-0.153) for {'activation': 'relu', 'hidden_layer_sizes': (100,), 'learning_rate': 'adaptive'}\n",
      "0.385 (+/-0.167) for {'activation': 'tanh', 'hidden_layer_sizes': (10,), 'learning_rate': 'constant'}\n",
      "0.424 (+/-0.024) for {'activation': 'tanh', 'hidden_layer_sizes': (10,), 'learning_rate': 'invscaling'}\n",
      "0.429 (+/-0.024) for {'activation': 'tanh', 'hidden_layer_sizes': (10,), 'learning_rate': 'adaptive'}\n",
      "0.415 (+/-0.053) for {'activation': 'tanh', 'hidden_layer_sizes': (50,), 'learning_rate': 'constant'}\n",
      "0.468 (+/-0.244) for {'activation': 'tanh', 'hidden_layer_sizes': (50,), 'learning_rate': 'invscaling'}\n",
      "0.405 (+/-0.066) for {'activation': 'tanh', 'hidden_layer_sizes': (50,), 'learning_rate': 'adaptive'}\n",
      "0.517 (+/-0.249) for {'activation': 'tanh', 'hidden_layer_sizes': (100,), 'learning_rate': 'constant'}\n",
      "0.468 (+/-0.221) for {'activation': 'tanh', 'hidden_layer_sizes': (100,), 'learning_rate': 'invscaling'}\n",
      "0.537 (+/-0.267) for {'activation': 'tanh', 'hidden_layer_sizes': (100,), 'learning_rate': 'adaptive'}\n",
      "0.483 (+/-0.225) for {'activation': 'logistic', 'hidden_layer_sizes': (10,), 'learning_rate': 'constant'}\n",
      "0.483 (+/-0.249) for {'activation': 'logistic', 'hidden_layer_sizes': (10,), 'learning_rate': 'invscaling'}\n",
      "0.424 (+/-0.024) for {'activation': 'logistic', 'hidden_layer_sizes': (10,), 'learning_rate': 'adaptive'}\n",
      "0.629 (+/-0.206) for {'activation': 'logistic', 'hidden_layer_sizes': (50,), 'learning_rate': 'constant'}\n",
      "0.468 (+/-0.191) for {'activation': 'logistic', 'hidden_layer_sizes': (50,), 'learning_rate': 'invscaling'}\n",
      "0.488 (+/-0.245) for {'activation': 'logistic', 'hidden_layer_sizes': (50,), 'learning_rate': 'adaptive'}\n",
      "0.649 (+/-0.206) for {'activation': 'logistic', 'hidden_layer_sizes': (100,), 'learning_rate': 'constant'}\n",
      "0.532 (+/-0.268) for {'activation': 'logistic', 'hidden_layer_sizes': (100,), 'learning_rate': 'invscaling'}\n",
      "0.478 (+/-0.206) for {'activation': 'logistic', 'hidden_layer_sizes': (100,), 'learning_rate': 'adaptive'}\n"
     ]
    },
    {
     "name": "stderr",
     "output_type": "stream",
     "text": [
      "/Users/taswarkarim/opt/anaconda3/lib/python3.9/site-packages/sklearn/neural_network/_multilayer_perceptron.py:614: ConvergenceWarning: Stochastic Optimizer: Maximum iterations (200) reached and the optimization hasn't converged yet.\n",
      "  warnings.warn(\n"
     ]
    }
   ],
   "source": [
    "mlp = MLPClassifier()\n",
    "parameters = {\n",
    "    'hidden_layer_sizes': [(10,), (50,), (100,)],\n",
    "    'activation': ['relu', 'tanh', 'logistic'],\n",
    "    'learning_rate': ['constant', 'invscaling', 'adaptive']\n",
    "}\n",
    "\n",
    "cv1 = GridSearchCV(mlp, parameters, cv=5)\n",
    "cv1.fit(tr_features, tr_labels.values.ravel())\n",
    "\n",
    "print_results(cv1)"
   ]
  },
  {
   "cell_type": "markdown",
   "metadata": {},
   "source": [
    "The best parameter seems to be the logistic multilayer percetpron with constant learning rate with a 100 hidden layer size parameter."
   ]
  },
  {
   "cell_type": "code",
   "execution_count": 32,
   "metadata": {},
   "outputs": [
    {
     "name": "stdout",
     "output_type": "stream",
     "text": [
      "[[32  0  0]\n",
      " [ 9  0  0]\n",
      " [27  0  0]]\n"
     ]
    }
   ],
   "source": [
    "best_random_grid1=cv1.best_estimator_\n",
    "y_pred1=best_random_grid1.predict(X_test1)\n",
    "print(confusion_matrix(y_test1,y_pred1))"
   ]
  },
  {
   "cell_type": "code",
   "execution_count": 33,
   "metadata": {},
   "outputs": [
    {
     "name": "stdout",
     "output_type": "stream",
     "text": [
      "Accuracy Score 0.47058823529411764\n"
     ]
    }
   ],
   "source": [
    "print(\"Accuracy Score {}\".format(accuracy_score(y_test1,y_pred1)))"
   ]
  },
  {
   "cell_type": "code",
   "execution_count": 34,
   "metadata": {},
   "outputs": [
    {
     "name": "stdout",
     "output_type": "stream",
     "text": [
      "Classification report:               precision    recall  f1-score   support\n",
      "\n",
      "      Adelie       0.47      1.00      0.64        32\n",
      "   Chinstrap       0.00      0.00      0.00         9\n",
      "      Gentoo       0.00      0.00      0.00        27\n",
      "\n",
      "    accuracy                           0.47        68\n",
      "   macro avg       0.16      0.33      0.21        68\n",
      "weighted avg       0.22      0.47      0.30        68\n",
      "\n"
     ]
    },
    {
     "name": "stderr",
     "output_type": "stream",
     "text": [
      "/Users/taswarkarim/opt/anaconda3/lib/python3.9/site-packages/sklearn/metrics/_classification.py:1248: UndefinedMetricWarning: Precision and F-score are ill-defined and being set to 0.0 in labels with no predicted samples. Use `zero_division` parameter to control this behavior.\n",
      "  _warn_prf(average, modifier, msg_start, len(result))\n",
      "/Users/taswarkarim/opt/anaconda3/lib/python3.9/site-packages/sklearn/metrics/_classification.py:1248: UndefinedMetricWarning: Precision and F-score are ill-defined and being set to 0.0 in labels with no predicted samples. Use `zero_division` parameter to control this behavior.\n",
      "  _warn_prf(average, modifier, msg_start, len(result))\n",
      "/Users/taswarkarim/opt/anaconda3/lib/python3.9/site-packages/sklearn/metrics/_classification.py:1248: UndefinedMetricWarning: Precision and F-score are ill-defined and being set to 0.0 in labels with no predicted samples. Use `zero_division` parameter to control this behavior.\n",
      "  _warn_prf(average, modifier, msg_start, len(result))\n"
     ]
    }
   ],
   "source": [
    "print(\"Classification report: {}\".format(classification_report(y_test1,y_pred1)))"
   ]
  },
  {
   "cell_type": "code",
   "execution_count": 35,
   "metadata": {},
   "outputs": [],
   "source": [
    "X=tr_features\n",
    "y=tr_labels.values.ravel()"
   ]
  },
  {
   "cell_type": "code",
   "execution_count": 36,
   "metadata": {},
   "outputs": [
    {
     "name": "stderr",
     "output_type": "stream",
     "text": [
      "/Users/taswarkarim/opt/anaconda3/lib/python3.9/site-packages/sklearn/neural_network/_multilayer_perceptron.py:614: ConvergenceWarning: Stochastic Optimizer: Maximum iterations (200) reached and the optimization hasn't converged yet.\n",
      "  warnings.warn(\n",
      "/Users/taswarkarim/opt/anaconda3/lib/python3.9/site-packages/sklearn/neural_network/_multilayer_perceptron.py:614: ConvergenceWarning: Stochastic Optimizer: Maximum iterations (200) reached and the optimization hasn't converged yet.\n",
      "  warnings.warn(\n",
      "/Users/taswarkarim/opt/anaconda3/lib/python3.9/site-packages/sklearn/neural_network/_multilayer_perceptron.py:614: ConvergenceWarning: Stochastic Optimizer: Maximum iterations (200) reached and the optimization hasn't converged yet.\n",
      "  warnings.warn(\n",
      "/Users/taswarkarim/opt/anaconda3/lib/python3.9/site-packages/sklearn/neural_network/_multilayer_perceptron.py:614: ConvergenceWarning: Stochastic Optimizer: Maximum iterations (200) reached and the optimization hasn't converged yet.\n",
      "  warnings.warn(\n",
      "/Users/taswarkarim/opt/anaconda3/lib/python3.9/site-packages/sklearn/neural_network/_multilayer_perceptron.py:614: ConvergenceWarning: Stochastic Optimizer: Maximum iterations (200) reached and the optimization hasn't converged yet.\n",
      "  warnings.warn(\n",
      "/Users/taswarkarim/opt/anaconda3/lib/python3.9/site-packages/sklearn/neural_network/_multilayer_perceptron.py:614: ConvergenceWarning: Stochastic Optimizer: Maximum iterations (200) reached and the optimization hasn't converged yet.\n",
      "  warnings.warn(\n",
      "/Users/taswarkarim/opt/anaconda3/lib/python3.9/site-packages/sklearn/neural_network/_multilayer_perceptron.py:614: ConvergenceWarning: Stochastic Optimizer: Maximum iterations (200) reached and the optimization hasn't converged yet.\n",
      "  warnings.warn(\n",
      "/Users/taswarkarim/opt/anaconda3/lib/python3.9/site-packages/sklearn/neural_network/_multilayer_perceptron.py:614: ConvergenceWarning: Stochastic Optimizer: Maximum iterations (200) reached and the optimization hasn't converged yet.\n",
      "  warnings.warn(\n",
      "/Users/taswarkarim/opt/anaconda3/lib/python3.9/site-packages/sklearn/neural_network/_multilayer_perceptron.py:614: ConvergenceWarning: Stochastic Optimizer: Maximum iterations (200) reached and the optimization hasn't converged yet.\n",
      "  warnings.warn(\n",
      "/Users/taswarkarim/opt/anaconda3/lib/python3.9/site-packages/sklearn/neural_network/_multilayer_perceptron.py:614: ConvergenceWarning: Stochastic Optimizer: Maximum iterations (200) reached and the optimization hasn't converged yet.\n",
      "  warnings.warn(\n",
      "/Users/taswarkarim/opt/anaconda3/lib/python3.9/site-packages/sklearn/neural_network/_multilayer_perceptron.py:614: ConvergenceWarning: Stochastic Optimizer: Maximum iterations (200) reached and the optimization hasn't converged yet.\n",
      "  warnings.warn(\n"
     ]
    },
    {
     "data": {
      "text/plain": [
       "<module 'matplotlib.pyplot' from '/Users/taswarkarim/opt/anaconda3/lib/python3.9/site-packages/matplotlib/pyplot.py'>"
      ]
     },
     "execution_count": 36,
     "metadata": {},
     "output_type": "execute_result"
    },
    {
     "data": {
      "image/png": "[encoded data removed]",
      "text/plain": [
       "<Figure size 1440x360 with 3 Axes>"
      ]
     },
     "metadata": {
      "needs_background": "light"
     },
     "output_type": "display_data"
    }
   ],
   "source": [
    "plot_learning_curve(best_random_grid1, \"Multilayer Perceptron\", X, y, axes=None, ylim=None, cv=5)"
   ]
  },
  {
   "cell_type": "markdown",
   "metadata": {},
   "source": [
    "Scikit model above shows the training score and cross-validation score against the number of training examples for Multilayer Perceptron"
   ]
  },
  {
   "cell_type": "code",
   "execution_count": 37,
   "metadata": {},
   "outputs": [
    {
     "data": {
      "text/plain": [
       "['./MLP_model.pkl']"
      ]
     },
     "execution_count": 37,
     "metadata": {},
     "output_type": "execute_result"
    }
   ],
   "source": [
    "joblib.dump(cv1.best_estimator_, './MLP_model.pkl')"
   ]
  },
  {
   "cell_type": "markdown",
   "metadata": {},
   "source": [
    "<h4> Random Forest Classifier </h4>"
   ]
  },
  {
   "cell_type": "code",
   "execution_count": 101,
   "metadata": {},
   "outputs": [
    {
     "name": "stdout",
     "output_type": "stream",
     "text": [
      "BEST PARAMS: {'max_depth': 8, 'n_estimators': 50}\n",
      "\n",
      "0.951 (+/-0.069) for {'max_depth': 2, 'n_estimators': 5}\n",
      "0.976 (+/-0.044) for {'max_depth': 2, 'n_estimators': 50}\n",
      "0.98 (+/-0.037) for {'max_depth': 2, 'n_estimators': 250}\n",
      "0.971 (+/-0.057) for {'max_depth': 4, 'n_estimators': 5}\n",
      "0.985 (+/-0.024) for {'max_depth': 4, 'n_estimators': 50}\n",
      "0.98 (+/-0.037) for {'max_depth': 4, 'n_estimators': 250}\n",
      "0.976 (+/-0.0) for {'max_depth': 8, 'n_estimators': 5}\n",
      "0.99 (+/-0.024) for {'max_depth': 8, 'n_estimators': 50}\n",
      "0.99 (+/-0.024) for {'max_depth': 8, 'n_estimators': 250}\n",
      "0.98 (+/-0.02) for {'max_depth': 16, 'n_estimators': 5}\n",
      "0.98 (+/-0.037) for {'max_depth': 16, 'n_estimators': 50}\n",
      "0.99 (+/-0.024) for {'max_depth': 16, 'n_estimators': 250}\n",
      "0.971 (+/-0.048) for {'max_depth': 32, 'n_estimators': 5}\n",
      "0.985 (+/-0.024) for {'max_depth': 32, 'n_estimators': 50}\n",
      "0.985 (+/-0.024) for {'max_depth': 32, 'n_estimators': 250}\n",
      "0.956 (+/-0.095) for {'max_depth': None, 'n_estimators': 5}\n",
      "0.985 (+/-0.024) for {'max_depth': None, 'n_estimators': 50}\n",
      "0.985 (+/-0.024) for {'max_depth': None, 'n_estimators': 250}\n"
     ]
    }
   ],
   "source": [
    "rf = RandomForestClassifier()\n",
    "parameters = { 'n_estimators': [5, 50, 250],\n",
    "    'max_depth': [2, 4, 8, 16, 32, None]\n",
    "}\n",
    "\n",
    "cv2 = GridSearchCV(rf, parameters, cv=5)\n",
    "cv2.fit(tr_features, tr_labels.values.ravel())\n",
    "\n",
    "print_results(cv2)"
   ]
  },
  {
   "cell_type": "markdown",
   "metadata": {},
   "source": [
    "It seems like the random forest classifier algorithm has a very good learning rate with hyperparameters set to max depth of 8 and 250 n_estimators"
   ]
  },
  {
   "cell_type": "code",
   "execution_count": 39,
   "metadata": {},
   "outputs": [
    {
     "name": "stdout",
     "output_type": "stream",
     "text": [
      "[[31  1  0]\n",
      " [ 0  9  0]\n",
      " [ 0  0 27]]\n"
     ]
    }
   ],
   "source": [
    "best_random_grid2=cv2.best_estimator_\n",
    "y_pred2=best_random_grid2.predict(X_test1)\n",
    "print(confusion_matrix(y_test1,y_pred2))"
   ]
  },
  {
   "cell_type": "code",
   "execution_count": 40,
   "metadata": {},
   "outputs": [
    {
     "name": "stdout",
     "output_type": "stream",
     "text": [
      "Accuracy Score 0.9852941176470589\n"
     ]
    }
   ],
   "source": [
    "print(\"Accuracy Score {}\".format(accuracy_score(y_test1,y_pred2)))"
   ]
  },
  {
   "cell_type": "code",
   "execution_count": 41,
   "metadata": {},
   "outputs": [
    {
     "name": "stdout",
     "output_type": "stream",
     "text": [
      "Classification report:               precision    recall  f1-score   support\n",
      "\n",
      "      Adelie       1.00      0.97      0.98        32\n",
      "   Chinstrap       0.90      1.00      0.95         9\n",
      "      Gentoo       1.00      1.00      1.00        27\n",
      "\n",
      "    accuracy                           0.99        68\n",
      "   macro avg       0.97      0.99      0.98        68\n",
      "weighted avg       0.99      0.99      0.99        68\n",
      "\n"
     ]
    }
   ],
   "source": [
    "print(\"Classification report: {}\".format(classification_report(y_test1,y_pred2)))"
   ]
  },
  {
   "cell_type": "code",
   "execution_count": 42,
   "metadata": {},
   "outputs": [],
   "source": [
    "X=tr_features\n",
    "y=tr_labels.values.ravel()"
   ]
  },
  {
   "cell_type": "code",
   "execution_count": 43,
   "metadata": {},
   "outputs": [
    {
     "data": {
      "text/plain": [
       "<module 'matplotlib.pyplot' from '/Users/taswarkarim/opt/anaconda3/lib/python3.9/site-packages/matplotlib/pyplot.py'>"
      ]
     },
     "execution_count": 43,
     "metadata": {},
     "output_type": "execute_result"
    },
    {
     "data": {
      "image/png": "[encoded data removed]",
      "text/plain": [
       "<Figure size 1440x360 with 3 Axes>"
      ]
     },
     "metadata": {
      "needs_background": "light"
     },
     "output_type": "display_data"
    }
   ],
   "source": [
    "plot_learning_curve(best_random_grid2, \"Random Forest Classifier\", X, y, axes=None, ylim=None, cv=5)"
   ]
  },
  {
   "cell_type": "code",
   "execution_count": 44,
   "metadata": {},
   "outputs": [
    {
     "data": {
      "text/plain": [
       "['./RF_model.pkl']"
      ]
     },
     "execution_count": 44,
     "metadata": {},
     "output_type": "execute_result"
    }
   ],
   "source": [
    "joblib.dump(cv2.best_estimator_, './RF_model.pkl')"
   ]
  },
  {
   "cell_type": "markdown",
   "metadata": {},
   "source": [
    "<h4> Gradient Boosting Classifier </h4>"
   ]
  },
  {
   "cell_type": "code",
   "execution_count": 45,
   "metadata": {},
   "outputs": [
    {
     "name": "stdout",
     "output_type": "stream",
     "text": [
      "BEST PARAMS: {'learning_rate': 0.01, 'max_depth': 3, 'n_estimators': 500}\n",
      "\n",
      "0.424 (+/-0.024) for {'learning_rate': 0.01, 'max_depth': 1, 'n_estimators': 5}\n",
      "0.937 (+/-0.073) for {'learning_rate': 0.01, 'max_depth': 1, 'n_estimators': 50}\n",
      "0.976 (+/-0.031) for {'learning_rate': 0.01, 'max_depth': 1, 'n_estimators': 250}\n",
      "0.98 (+/-0.02) for {'learning_rate': 0.01, 'max_depth': 1, 'n_estimators': 500}\n",
      "0.483 (+/-0.249) for {'learning_rate': 0.01, 'max_depth': 3, 'n_estimators': 5}\n",
      "0.976 (+/-0.044) for {'learning_rate': 0.01, 'max_depth': 3, 'n_estimators': 50}\n",
      "0.98 (+/-0.037) for {'learning_rate': 0.01, 'max_depth': 3, 'n_estimators': 250}\n",
      "0.985 (+/-0.024) for {'learning_rate': 0.01, 'max_depth': 3, 'n_estimators': 500}\n",
      "0.483 (+/-0.249) for {'learning_rate': 0.01, 'max_depth': 5, 'n_estimators': 5}\n",
      "0.976 (+/-0.031) for {'learning_rate': 0.01, 'max_depth': 5, 'n_estimators': 50}\n",
      "0.976 (+/-0.031) for {'learning_rate': 0.01, 'max_depth': 5, 'n_estimators': 250}\n",
      "0.976 (+/-0.031) for {'learning_rate': 0.01, 'max_depth': 5, 'n_estimators': 500}\n",
      "0.493 (+/-0.288) for {'learning_rate': 0.01, 'max_depth': 7, 'n_estimators': 5}\n",
      "0.976 (+/-0.031) for {'learning_rate': 0.01, 'max_depth': 7, 'n_estimators': 50}\n",
      "0.976 (+/-0.031) for {'learning_rate': 0.01, 'max_depth': 7, 'n_estimators': 250}\n",
      "0.976 (+/-0.031) for {'learning_rate': 0.01, 'max_depth': 7, 'n_estimators': 500}\n",
      "0.493 (+/-0.288) for {'learning_rate': 0.01, 'max_depth': 9, 'n_estimators': 5}\n",
      "0.976 (+/-0.031) for {'learning_rate': 0.01, 'max_depth': 9, 'n_estimators': 50}\n",
      "0.976 (+/-0.031) for {'learning_rate': 0.01, 'max_depth': 9, 'n_estimators': 250}\n",
      "0.976 (+/-0.031) for {'learning_rate': 0.01, 'max_depth': 9, 'n_estimators': 500}\n",
      "0.937 (+/-0.073) for {'learning_rate': 0.1, 'max_depth': 1, 'n_estimators': 5}\n",
      "0.98 (+/-0.02) for {'learning_rate': 0.1, 'max_depth': 1, 'n_estimators': 50}\n",
      "0.98 (+/-0.037) for {'learning_rate': 0.1, 'max_depth': 1, 'n_estimators': 250}\n",
      "0.98 (+/-0.037) for {'learning_rate': 0.1, 'max_depth': 1, 'n_estimators': 500}\n",
      "0.976 (+/-0.044) for {'learning_rate': 0.1, 'max_depth': 3, 'n_estimators': 5}\n",
      "0.985 (+/-0.024) for {'learning_rate': 0.1, 'max_depth': 3, 'n_estimators': 50}\n",
      "0.98 (+/-0.02) for {'learning_rate': 0.1, 'max_depth': 3, 'n_estimators': 250}\n",
      "0.98 (+/-0.02) for {'learning_rate': 0.1, 'max_depth': 3, 'n_estimators': 500}\n",
      "0.976 (+/-0.031) for {'learning_rate': 0.1, 'max_depth': 5, 'n_estimators': 5}\n",
      "0.976 (+/-0.031) for {'learning_rate': 0.1, 'max_depth': 5, 'n_estimators': 50}\n",
      "0.971 (+/-0.037) for {'learning_rate': 0.1, 'max_depth': 5, 'n_estimators': 250}\n",
      "0.976 (+/-0.031) for {'learning_rate': 0.1, 'max_depth': 5, 'n_estimators': 500}\n",
      "0.976 (+/-0.031) for {'learning_rate': 0.1, 'max_depth': 7, 'n_estimators': 5}\n",
      "0.976 (+/-0.031) for {'learning_rate': 0.1, 'max_depth': 7, 'n_estimators': 50}\n",
      "0.976 (+/-0.031) for {'learning_rate': 0.1, 'max_depth': 7, 'n_estimators': 250}\n",
      "0.976 (+/-0.031) for {'learning_rate': 0.1, 'max_depth': 7, 'n_estimators': 500}\n",
      "0.971 (+/-0.037) for {'learning_rate': 0.1, 'max_depth': 9, 'n_estimators': 5}\n",
      "0.976 (+/-0.031) for {'learning_rate': 0.1, 'max_depth': 9, 'n_estimators': 50}\n",
      "0.971 (+/-0.037) for {'learning_rate': 0.1, 'max_depth': 9, 'n_estimators': 250}\n",
      "0.976 (+/-0.031) for {'learning_rate': 0.1, 'max_depth': 9, 'n_estimators': 500}\n",
      "0.985 (+/-0.024) for {'learning_rate': 1, 'max_depth': 1, 'n_estimators': 5}\n",
      "0.985 (+/-0.024) for {'learning_rate': 1, 'max_depth': 1, 'n_estimators': 50}\n",
      "0.976 (+/-0.031) for {'learning_rate': 1, 'max_depth': 1, 'n_estimators': 250}\n",
      "0.976 (+/-0.031) for {'learning_rate': 1, 'max_depth': 1, 'n_estimators': 500}\n",
      "0.98 (+/-0.037) for {'learning_rate': 1, 'max_depth': 3, 'n_estimators': 5}\n",
      "0.985 (+/-0.024) for {'learning_rate': 1, 'max_depth': 3, 'n_estimators': 50}\n",
      "0.985 (+/-0.024) for {'learning_rate': 1, 'max_depth': 3, 'n_estimators': 250}\n",
      "0.985 (+/-0.024) for {'learning_rate': 1, 'max_depth': 3, 'n_estimators': 500}\n",
      "0.976 (+/-0.031) for {'learning_rate': 1, 'max_depth': 5, 'n_estimators': 5}\n",
      "0.976 (+/-0.031) for {'learning_rate': 1, 'max_depth': 5, 'n_estimators': 50}\n",
      "0.976 (+/-0.031) for {'learning_rate': 1, 'max_depth': 5, 'n_estimators': 250}\n",
      "0.98 (+/-0.02) for {'learning_rate': 1, 'max_depth': 5, 'n_estimators': 500}\n",
      "0.976 (+/-0.031) for {'learning_rate': 1, 'max_depth': 7, 'n_estimators': 5}\n",
      "0.976 (+/-0.031) for {'learning_rate': 1, 'max_depth': 7, 'n_estimators': 50}\n",
      "0.976 (+/-0.031) for {'learning_rate': 1, 'max_depth': 7, 'n_estimators': 250}\n",
      "0.98 (+/-0.02) for {'learning_rate': 1, 'max_depth': 7, 'n_estimators': 500}\n",
      "0.976 (+/-0.031) for {'learning_rate': 1, 'max_depth': 9, 'n_estimators': 5}\n",
      "0.976 (+/-0.031) for {'learning_rate': 1, 'max_depth': 9, 'n_estimators': 50}\n",
      "0.976 (+/-0.031) for {'learning_rate': 1, 'max_depth': 9, 'n_estimators': 250}\n",
      "0.976 (+/-0.031) for {'learning_rate': 1, 'max_depth': 9, 'n_estimators': 500}\n",
      "0.532 (+/-0.312) for {'learning_rate': 10, 'max_depth': 1, 'n_estimators': 5}\n",
      "0.532 (+/-0.312) for {'learning_rate': 10, 'max_depth': 1, 'n_estimators': 50}\n",
      "0.532 (+/-0.312) for {'learning_rate': 10, 'max_depth': 1, 'n_estimators': 250}\n",
      "0.532 (+/-0.312) for {'learning_rate': 10, 'max_depth': 1, 'n_estimators': 500}\n",
      "0.976 (+/-0.053) for {'learning_rate': 10, 'max_depth': 3, 'n_estimators': 5}\n",
      "0.971 (+/-0.048) for {'learning_rate': 10, 'max_depth': 3, 'n_estimators': 50}\n",
      "0.966 (+/-0.066) for {'learning_rate': 10, 'max_depth': 3, 'n_estimators': 250}\n",
      "0.966 (+/-0.066) for {'learning_rate': 10, 'max_depth': 3, 'n_estimators': 500}\n",
      "0.976 (+/-0.031) for {'learning_rate': 10, 'max_depth': 5, 'n_estimators': 5}\n",
      "0.966 (+/-0.039) for {'learning_rate': 10, 'max_depth': 5, 'n_estimators': 50}\n",
      "0.971 (+/-0.037) for {'learning_rate': 10, 'max_depth': 5, 'n_estimators': 250}\n",
      "0.966 (+/-0.024) for {'learning_rate': 10, 'max_depth': 5, 'n_estimators': 500}\n",
      "0.98 (+/-0.02) for {'learning_rate': 10, 'max_depth': 7, 'n_estimators': 5}\n",
      "0.971 (+/-0.02) for {'learning_rate': 10, 'max_depth': 7, 'n_estimators': 50}\n",
      "0.966 (+/-0.024) for {'learning_rate': 10, 'max_depth': 7, 'n_estimators': 250}\n",
      "0.971 (+/-0.02) for {'learning_rate': 10, 'max_depth': 7, 'n_estimators': 500}\n",
      "0.98 (+/-0.02) for {'learning_rate': 10, 'max_depth': 9, 'n_estimators': 5}\n",
      "0.971 (+/-0.02) for {'learning_rate': 10, 'max_depth': 9, 'n_estimators': 50}\n",
      "0.971 (+/-0.02) for {'learning_rate': 10, 'max_depth': 9, 'n_estimators': 250}\n",
      "0.971 (+/-0.02) for {'learning_rate': 10, 'max_depth': 9, 'n_estimators': 500}\n",
      "0.405 (+/-0.333) for {'learning_rate': 100, 'max_depth': 1, 'n_estimators': 5}\n",
      "0.405 (+/-0.333) for {'learning_rate': 100, 'max_depth': 1, 'n_estimators': 50}\n",
      "0.405 (+/-0.333) for {'learning_rate': 100, 'max_depth': 1, 'n_estimators': 250}\n",
      "0.405 (+/-0.333) for {'learning_rate': 100, 'max_depth': 1, 'n_estimators': 500}\n",
      "0.971 (+/-0.057) for {'learning_rate': 100, 'max_depth': 3, 'n_estimators': 5}\n",
      "0.966 (+/-0.059) for {'learning_rate': 100, 'max_depth': 3, 'n_estimators': 50}\n",
      "0.966 (+/-0.059) for {'learning_rate': 100, 'max_depth': 3, 'n_estimators': 250}\n",
      "0.966 (+/-0.059) for {'learning_rate': 100, 'max_depth': 3, 'n_estimators': 500}\n",
      "0.966 (+/-0.066) for {'learning_rate': 100, 'max_depth': 5, 'n_estimators': 5}\n",
      "0.98 (+/-0.02) for {'learning_rate': 100, 'max_depth': 5, 'n_estimators': 50}\n",
      "0.971 (+/-0.048) for {'learning_rate': 100, 'max_depth': 5, 'n_estimators': 250}\n",
      "0.976 (+/-0.031) for {'learning_rate': 100, 'max_depth': 5, 'n_estimators': 500}\n",
      "0.98 (+/-0.02) for {'learning_rate': 100, 'max_depth': 7, 'n_estimators': 5}\n",
      "0.976 (+/-0.031) for {'learning_rate': 100, 'max_depth': 7, 'n_estimators': 50}\n",
      "0.966 (+/-0.066) for {'learning_rate': 100, 'max_depth': 7, 'n_estimators': 250}\n",
      "0.98 (+/-0.02) for {'learning_rate': 100, 'max_depth': 7, 'n_estimators': 500}\n",
      "0.966 (+/-0.066) for {'learning_rate': 100, 'max_depth': 9, 'n_estimators': 5}\n",
      "0.971 (+/-0.037) for {'learning_rate': 100, 'max_depth': 9, 'n_estimators': 50}\n",
      "0.971 (+/-0.048) for {'learning_rate': 100, 'max_depth': 9, 'n_estimators': 250}\n",
      "0.98 (+/-0.02) for {'learning_rate': 100, 'max_depth': 9, 'n_estimators': 500}\n"
     ]
    }
   ],
   "source": [
    "gb = GradientBoostingClassifier()\n",
    "parameters = {\n",
    "    'n_estimators': [5, 50, 250, 500],\n",
    "    'max_depth': [1, 3, 5, 7, 9],\n",
    "    'learning_rate': [0.01, 0.1, 1, 10, 100]\n",
    "}\n",
    "\n",
    "cv3 = GridSearchCV(gb, parameters, cv=5)\n",
    "cv3.fit(tr_features, tr_labels.values.ravel())\n",
    "\n",
    "\n",
    "print_results(cv3)"
   ]
  },
  {
   "cell_type": "code",
   "execution_count": 46,
   "metadata": {},
   "outputs": [
    {
     "name": "stdout",
     "output_type": "stream",
     "text": [
      "[[31  1  0]\n",
      " [ 0  9  0]\n",
      " [ 0  0 27]]\n"
     ]
    }
   ],
   "source": [
    "best_random_grid3=cv3.best_estimator_\n",
    "y_pred3=best_random_grid3.predict(X_test1)\n",
    "print(confusion_matrix(y_test1,y_pred3))"
   ]
  },
  {
   "cell_type": "code",
   "execution_count": 47,
   "metadata": {},
   "outputs": [
    {
     "name": "stdout",
     "output_type": "stream",
     "text": [
      "Accuracy Score 0.9852941176470589\n"
     ]
    }
   ],
   "source": [
    "print(\"Accuracy Score {}\".format(accuracy_score(y_test1,y_pred3)))"
   ]
  },
  {
   "cell_type": "code",
   "execution_count": 48,
   "metadata": {},
   "outputs": [
    {
     "name": "stdout",
     "output_type": "stream",
     "text": [
      "Classification report:               precision    recall  f1-score   support\n",
      "\n",
      "      Adelie       1.00      0.97      0.98        32\n",
      "   Chinstrap       0.90      1.00      0.95         9\n",
      "      Gentoo       1.00      1.00      1.00        27\n",
      "\n",
      "    accuracy                           0.99        68\n",
      "   macro avg       0.97      0.99      0.98        68\n",
      "weighted avg       0.99      0.99      0.99        68\n",
      "\n"
     ]
    }
   ],
   "source": [
    "print(\"Classification report: {}\".format(classification_report(y_test1,y_pred3)))"
   ]
  },
  {
   "cell_type": "code",
   "execution_count": 49,
   "metadata": {},
   "outputs": [],
   "source": [
    "X=tr_features\n",
    "y=tr_labels.values.ravel()"
   ]
  },
  {
   "cell_type": "code",
   "execution_count": 50,
   "metadata": {},
   "outputs": [
    {
     "data": {
      "text/plain": [
       "<module 'matplotlib.pyplot' from '/Users/taswarkarim/opt/anaconda3/lib/python3.9/site-packages/matplotlib/pyplot.py'>"
      ]
     },
     "execution_count": 50,
     "metadata": {},
     "output_type": "execute_result"
    },
    {
     "data": {
      "image/png": "[encoded data removed]",
      "text/plain": [
       "<Figure size 1440x360 with 3 Axes>"
      ]
     },
     "metadata": {
      "needs_background": "light"
     },
     "output_type": "display_data"
    }
   ],
   "source": [
    "plot_learning_curve(best_random_grid3, \"Gradient Boosting Classifier\", X, y, axes=None, ylim=None, cv=5)"
   ]
  },
  {
   "cell_type": "code",
   "execution_count": 51,
   "metadata": {},
   "outputs": [
    {
     "data": {
      "text/plain": [
       "['./GB_model.pkl']"
      ]
     },
     "execution_count": 51,
     "metadata": {},
     "output_type": "execute_result"
    }
   ],
   "source": [
    "joblib.dump(cv3.best_estimator_, './GB_model.pkl')"
   ]
  },
  {
   "cell_type": "markdown",
   "metadata": {},
   "source": [
    "Our accuracy score for Gradient Boosting Classifier has an accuaracy of 98.5% "
   ]
  },
  {
   "cell_type": "markdown",
   "metadata": {},
   "source": [
    "### Evaluating the models "
   ]
  },
  {
   "cell_type": "markdown",
   "metadata": {},
   "source": [
    "Evaluating the 60-20-20 models"
   ]
  },
  {
   "cell_type": "code",
   "execution_count": 90,
   "metadata": {},
   "outputs": [
    {
     "data": {
      "text/plain": [
       "{'MLP': MLPClassifier(activation='logistic'),\n",
       " 'RF': RandomForestClassifier(max_depth=8, n_estimators=50),\n",
       " 'GB': GradientBoostingClassifier(learning_rate=0.01, n_estimators=500)}"
      ]
     },
     "execution_count": 90,
     "metadata": {},
     "output_type": "execute_result"
    }
   ],
   "source": [
    "models = {}\n",
    "\n",
    "for mdl in ['MLP', 'RF', 'GB']:\n",
    "    models[mdl] = joblib.load('./{}_model.pkl'.format(mdl))\n",
    "\n",
    "\n",
    "models"
   ]
  },
  {
   "cell_type": "markdown",
   "metadata": {},
   "source": [
    "### Evaluate models on the validation set"
   ]
  },
  {
   "cell_type": "code",
   "execution_count": 53,
   "metadata": {},
   "outputs": [],
   "source": [
    "def evaluate_model(name, model, features, labels):\n",
    "    start = time()\n",
    "    pred = model.predict(features)\n",
    "    end = time()\n",
    "    accuracy = round(accuracy_score(labels, pred), 5)\n",
    "    precision = round(precision_score(labels, pred, average='micro'), 5)\n",
    "    recall = round(recall_score(labels, pred, average='micro'), 5)\n",
    "    print('{} -- Accuracy: {} / Precision: {} / Recall: {} / Latency: {}ms'.format(name,\n",
    "                                                                                   accuracy,\n",
    "                                                                                   precision,\n",
    "                                                                                   recall,\n",
    "                                                                                   round((end - start)*1000, 1)))"
   ]
  },
  {
   "cell_type": "markdown",
   "metadata": {},
   "source": [
    "Evaluating the 60-20-20 split models on Validation set"
   ]
  },
  {
   "cell_type": "code",
   "execution_count": 54,
   "metadata": {},
   "outputs": [
    {
     "name": "stdout",
     "output_type": "stream",
     "text": [
      "MLP -- Accuracy: 0.46377 / Precision: 0.46377 / Recall: 0.46377 / Latency: 2.2ms\n",
      "RF -- Accuracy: 1.0 / Precision: 1.0 / Recall: 1.0 / Latency: 16.5ms\n",
      "GB -- Accuracy: 1.0 / Precision: 1.0 / Recall: 1.0 / Latency: 3.3ms\n"
     ]
    }
   ],
   "source": [
    "for name, mdl in models.items():\n",
    "    evaluate_model(name, mdl, val_features, val_labels)\n"
   ]
  },
  {
   "cell_type": "markdown",
   "metadata": {},
   "source": [
    "Evaluating the 60-20-20 split models on Test set"
   ]
  },
  {
   "cell_type": "code",
   "execution_count": 93,
   "metadata": {},
   "outputs": [
    {
     "name": "stdout",
     "output_type": "stream",
     "text": [
      "MLP -- Accuracy: 0.47059 / Precision: 0.47059 / Recall: 0.47059 / Latency: 3.8ms\n",
      "RF -- Accuracy: 0.98529 / Precision: 0.98529 / Recall: 0.98529 / Latency: 18.5ms\n",
      "GB -- Accuracy: 0.98529 / Precision: 0.98529 / Recall: 0.98529 / Latency: 18.1ms\n"
     ]
    }
   ],
   "source": [
    "for name, mdl in models.items():\n",
    "    evaluate_model(name, mdl, test_features, test_labels)"
   ]
  },
  {
   "cell_type": "markdown",
   "metadata": {},
   "source": [
    "###  For Train Test Validation 2: Ratio (80-10-10)"
   ]
  },
  {
   "cell_type": "markdown",
   "metadata": {},
   "source": [
    "#### Starting with RandomForestClassifer"
   ]
  },
  {
   "cell_type": "code",
   "execution_count": 55,
   "metadata": {},
   "outputs": [
    {
     "name": "stdout",
     "output_type": "stream",
     "text": [
      "BEST PARAMS: {'max_depth': 16, 'n_estimators': 5}\n",
      "\n",
      "0.953 (+/-0.049) for {'max_depth': 2, 'n_estimators': 5}\n",
      "0.978 (+/-0.015) for {'max_depth': 2, 'n_estimators': 50}\n",
      "0.978 (+/-0.015) for {'max_depth': 2, 'n_estimators': 250}\n",
      "0.971 (+/-0.05) for {'max_depth': 4, 'n_estimators': 5}\n",
      "0.982 (+/-0.0) for {'max_depth': 4, 'n_estimators': 50}\n",
      "0.982 (+/-0.023) for {'max_depth': 4, 'n_estimators': 250}\n",
      "0.971 (+/-0.05) for {'max_depth': 8, 'n_estimators': 5}\n",
      "0.985 (+/-0.028) for {'max_depth': 8, 'n_estimators': 50}\n",
      "0.985 (+/-0.028) for {'max_depth': 8, 'n_estimators': 250}\n",
      "0.993 (+/-0.018) for {'max_depth': 16, 'n_estimators': 5}\n",
      "0.993 (+/-0.018) for {'max_depth': 16, 'n_estimators': 50}\n",
      "0.985 (+/-0.028) for {'max_depth': 16, 'n_estimators': 250}\n",
      "0.974 (+/-0.018) for {'max_depth': 32, 'n_estimators': 5}\n",
      "0.985 (+/-0.028) for {'max_depth': 32, 'n_estimators': 50}\n",
      "0.993 (+/-0.018) for {'max_depth': 32, 'n_estimators': 250}\n",
      "0.989 (+/-0.018) for {'max_depth': None, 'n_estimators': 5}\n",
      "0.985 (+/-0.028) for {'max_depth': None, 'n_estimators': 50}\n",
      "0.989 (+/-0.03) for {'max_depth': None, 'n_estimators': 250}\n"
     ]
    }
   ],
   "source": [
    "rf = RandomForestClassifier()\n",
    "parameters = { 'n_estimators': [5, 50, 250],\n",
    "    'max_depth': [2, 4, 8, 16, 32, None]\n",
    "}\n",
    "\n",
    "cv4 = GridSearchCV(rf, parameters, cv=5)\n",
    "cv4.fit(tr_features2, tr_labels2.values.ravel())\n",
    "\n",
    "print_results(cv4)"
   ]
  },
  {
   "cell_type": "code",
   "execution_count": 56,
   "metadata": {},
   "outputs": [
    {
     "data": {
      "text/plain": [
       "{'max_depth': 16, 'n_estimators': 5}"
      ]
     },
     "execution_count": 56,
     "metadata": {},
     "output_type": "execute_result"
    }
   ],
   "source": [
    "cv4.best_params_"
   ]
  },
  {
   "cell_type": "code",
   "execution_count": 70,
   "metadata": {},
   "outputs": [],
   "source": [
    "best_random_grid4=cv4.best_estimator_"
   ]
  },
  {
   "cell_type": "code",
   "execution_count": 58,
   "metadata": {},
   "outputs": [
    {
     "name": "stdout",
     "output_type": "stream",
     "text": [
      "[[17  0  0]\n",
      " [ 0  7  0]\n",
      " [ 0  0 10]]\n"
     ]
    }
   ],
   "source": [
    "y_pred4=best_random_grid4.predict(X_test2)\n",
    "print(confusion_matrix(y_test2,y_pred4))"
   ]
  },
  {
   "cell_type": "code",
   "execution_count": 59,
   "metadata": {},
   "outputs": [
    {
     "name": "stdout",
     "output_type": "stream",
     "text": [
      "Accuracy Score 1.0\n"
     ]
    }
   ],
   "source": [
    "print(\"Accuracy Score {}\".format(accuracy_score(y_test2,y_pred4)))"
   ]
  },
  {
   "cell_type": "code",
   "execution_count": 60,
   "metadata": {},
   "outputs": [
    {
     "name": "stdout",
     "output_type": "stream",
     "text": [
      "Classification report:               precision    recall  f1-score   support\n",
      "\n",
      "      Adelie       1.00      1.00      1.00        17\n",
      "   Chinstrap       1.00      1.00      1.00         7\n",
      "      Gentoo       1.00      1.00      1.00        10\n",
      "\n",
      "    accuracy                           1.00        34\n",
      "   macro avg       1.00      1.00      1.00        34\n",
      "weighted avg       1.00      1.00      1.00        34\n",
      "\n"
     ]
    }
   ],
   "source": [
    "print(\"Classification report: {}\".format(classification_report(y_test2,y_pred4)))"
   ]
  },
  {
   "cell_type": "code",
   "execution_count": 61,
   "metadata": {},
   "outputs": [
    {
     "data": {
      "text/plain": [
       "<module 'matplotlib.pyplot' from '/Users/taswarkarim/opt/anaconda3/lib/python3.9/site-packages/matplotlib/pyplot.py'>"
      ]
     },
     "execution_count": 61,
     "metadata": {},
     "output_type": "execute_result"
    },
    {
     "data": {
      "image/png": "[encoded data removed]",
      "text/plain": [
       "<Figure size 1440x360 with 3 Axes>"
      ]
     },
     "metadata": {
      "needs_background": "light"
     },
     "output_type": "display_data"
    }
   ],
   "source": [
    "plot_learning_curve(best_random_grid4, \"Random Forest Classifier\", X, y, axes=None, ylim=None, cv=5)"
   ]
  },
  {
   "cell_type": "code",
   "execution_count": 84,
   "metadata": {},
   "outputs": [
    {
     "data": {
      "text/plain": [
       "['./RF2_model.pkl']"
      ]
     },
     "execution_count": 84,
     "metadata": {},
     "output_type": "execute_result"
    }
   ],
   "source": [
    "joblib.dump(cv4.best_estimator_, './RF2_model.pkl')"
   ]
  },
  {
   "cell_type": "markdown",
   "metadata": {},
   "source": [
    "### MLP Classifier"
   ]
  },
  {
   "cell_type": "code",
   "execution_count": 62,
   "metadata": {},
   "outputs": [
    {
     "name": "stderr",
     "output_type": "stream",
     "text": [
      "/Users/taswarkarim/opt/anaconda3/lib/python3.9/site-packages/sklearn/neural_network/_multilayer_perceptron.py:614: ConvergenceWarning: Stochastic Optimizer: Maximum iterations (200) reached and the optimization hasn't converged yet.\n",
      "  warnings.warn(\n",
      "/Users/taswarkarim/opt/anaconda3/lib/python3.9/site-packages/sklearn/neural_network/_multilayer_perceptron.py:614: ConvergenceWarning: Stochastic Optimizer: Maximum iterations (200) reached and the optimization hasn't converged yet.\n",
      "  warnings.warn(\n",
      "/Users/taswarkarim/opt/anaconda3/lib/python3.9/site-packages/sklearn/neural_network/_multilayer_perceptron.py:614: ConvergenceWarning: Stochastic Optimizer: Maximum iterations (200) reached and the optimization hasn't converged yet.\n",
      "  warnings.warn(\n",
      "/Users/taswarkarim/opt/anaconda3/lib/python3.9/site-packages/sklearn/neural_network/_multilayer_perceptron.py:614: ConvergenceWarning: Stochastic Optimizer: Maximum iterations (200) reached and the optimization hasn't converged yet.\n",
      "  warnings.warn(\n",
      "/Users/taswarkarim/opt/anaconda3/lib/python3.9/site-packages/sklearn/neural_network/_multilayer_perceptron.py:614: ConvergenceWarning: Stochastic Optimizer: Maximum iterations (200) reached and the optimization hasn't converged yet.\n",
      "  warnings.warn(\n",
      "/Users/taswarkarim/opt/anaconda3/lib/python3.9/site-packages/sklearn/neural_network/_multilayer_perceptron.py:614: ConvergenceWarning: Stochastic Optimizer: Maximum iterations (200) reached and the optimization hasn't converged yet.\n",
      "  warnings.warn(\n",
      "/Users/taswarkarim/opt/anaconda3/lib/python3.9/site-packages/sklearn/neural_network/_multilayer_perceptron.py:614: ConvergenceWarning: Stochastic Optimizer: Maximum iterations (200) reached and the optimization hasn't converged yet.\n",
      "  warnings.warn(\n",
      "/Users/taswarkarim/opt/anaconda3/lib/python3.9/site-packages/sklearn/neural_network/_multilayer_perceptron.py:614: ConvergenceWarning: Stochastic Optimizer: Maximum iterations (200) reached and the optimization hasn't converged yet.\n",
      "  warnings.warn(\n",
      "/Users/taswarkarim/opt/anaconda3/lib/python3.9/site-packages/sklearn/neural_network/_multilayer_perceptron.py:614: ConvergenceWarning: Stochastic Optimizer: Maximum iterations (200) reached and the optimization hasn't converged yet.\n",
      "  warnings.warn(\n",
      "/Users/taswarkarim/opt/anaconda3/lib/python3.9/site-packages/sklearn/neural_network/_multilayer_perceptron.py:614: ConvergenceWarning: Stochastic Optimizer: Maximum iterations (200) reached and the optimization hasn't converged yet.\n",
      "  warnings.warn(\n",
      "/Users/taswarkarim/opt/anaconda3/lib/python3.9/site-packages/sklearn/neural_network/_multilayer_perceptron.py:614: ConvergenceWarning: Stochastic Optimizer: Maximum iterations (200) reached and the optimization hasn't converged yet.\n",
      "  warnings.warn(\n",
      "/Users/taswarkarim/opt/anaconda3/lib/python3.9/site-packages/sklearn/neural_network/_multilayer_perceptron.py:614: ConvergenceWarning: Stochastic Optimizer: Maximum iterations (200) reached and the optimization hasn't converged yet.\n",
      "  warnings.warn(\n",
      "/Users/taswarkarim/opt/anaconda3/lib/python3.9/site-packages/sklearn/neural_network/_multilayer_perceptron.py:614: ConvergenceWarning: Stochastic Optimizer: Maximum iterations (200) reached and the optimization hasn't converged yet.\n",
      "  warnings.warn(\n",
      "/Users/taswarkarim/opt/anaconda3/lib/python3.9/site-packages/sklearn/neural_network/_multilayer_perceptron.py:614: ConvergenceWarning: Stochastic Optimizer: Maximum iterations (200) reached and the optimization hasn't converged yet.\n",
      "  warnings.warn(\n",
      "/Users/taswarkarim/opt/anaconda3/lib/python3.9/site-packages/sklearn/neural_network/_multilayer_perceptron.py:614: ConvergenceWarning: Stochastic Optimizer: Maximum iterations (200) reached and the optimization hasn't converged yet.\n",
      "  warnings.warn(\n"
     ]
    },
    {
     "name": "stdout",
     "output_type": "stream",
     "text": [
      "BEST PARAMS: {'activation': 'tanh', 'hidden_layer_sizes': (100,), 'learning_rate': 'invscaling'}\n",
      "\n",
      "0.235 (+/-0.138) for {'activation': 'relu', 'hidden_layer_sizes': (10,), 'learning_rate': 'constant'}\n",
      "0.404 (+/-0.253) for {'activation': 'relu', 'hidden_layer_sizes': (10,), 'learning_rate': 'invscaling'}\n",
      "0.289 (+/-0.211) for {'activation': 'relu', 'hidden_layer_sizes': (10,), 'learning_rate': 'adaptive'}\n",
      "0.333 (+/-0.203) for {'activation': 'relu', 'hidden_layer_sizes': (50,), 'learning_rate': 'constant'}\n",
      "0.403 (+/-0.067) for {'activation': 'relu', 'hidden_layer_sizes': (50,), 'learning_rate': 'invscaling'}\n",
      "0.333 (+/-0.242) for {'activation': 'relu', 'hidden_layer_sizes': (50,), 'learning_rate': 'adaptive'}\n",
      "0.473 (+/-0.222) for {'activation': 'relu', 'hidden_layer_sizes': (100,), 'learning_rate': 'constant'}\n",
      "0.488 (+/-0.191) for {'activation': 'relu', 'hidden_layer_sizes': (100,), 'learning_rate': 'invscaling'}\n",
      "0.432 (+/-0.165) for {'activation': 'relu', 'hidden_layer_sizes': (100,), 'learning_rate': 'adaptive'}\n",
      "0.487 (+/-0.241) for {'activation': 'tanh', 'hidden_layer_sizes': (10,), 'learning_rate': 'constant'}\n",
      "0.484 (+/-0.238) for {'activation': 'tanh', 'hidden_layer_sizes': (10,), 'learning_rate': 'invscaling'}\n",
      "0.425 (+/-0.013) for {'activation': 'tanh', 'hidden_layer_sizes': (10,), 'learning_rate': 'adaptive'}\n",
      "0.495 (+/-0.189) for {'activation': 'tanh', 'hidden_layer_sizes': (50,), 'learning_rate': 'constant'}\n",
      "0.425 (+/-0.013) for {'activation': 'tanh', 'hidden_layer_sizes': (50,), 'learning_rate': 'invscaling'}\n",
      "0.619 (+/-0.199) for {'activation': 'tanh', 'hidden_layer_sizes': (50,), 'learning_rate': 'adaptive'}\n",
      "0.549 (+/-0.211) for {'activation': 'tanh', 'hidden_layer_sizes': (100,), 'learning_rate': 'constant'}\n",
      "0.674 (+/-0.134) for {'activation': 'tanh', 'hidden_layer_sizes': (100,), 'learning_rate': 'invscaling'}\n",
      "0.484 (+/-0.156) for {'activation': 'tanh', 'hidden_layer_sizes': (100,), 'learning_rate': 'adaptive'}\n",
      "0.523 (+/-0.232) for {'activation': 'logistic', 'hidden_layer_sizes': (10,), 'learning_rate': 'constant'}\n",
      "0.484 (+/-0.238) for {'activation': 'logistic', 'hidden_layer_sizes': (10,), 'learning_rate': 'invscaling'}\n",
      "0.425 (+/-0.013) for {'activation': 'logistic', 'hidden_layer_sizes': (10,), 'learning_rate': 'adaptive'}\n",
      "0.645 (+/-0.234) for {'activation': 'logistic', 'hidden_layer_sizes': (50,), 'learning_rate': 'constant'}\n",
      "0.545 (+/-0.298) for {'activation': 'logistic', 'hidden_layer_sizes': (50,), 'learning_rate': 'invscaling'}\n",
      "0.535 (+/-0.206) for {'activation': 'logistic', 'hidden_layer_sizes': (50,), 'learning_rate': 'adaptive'}\n",
      "0.571 (+/-0.247) for {'activation': 'logistic', 'hidden_layer_sizes': (100,), 'learning_rate': 'constant'}\n",
      "0.648 (+/-0.233) for {'activation': 'logistic', 'hidden_layer_sizes': (100,), 'learning_rate': 'invscaling'}\n",
      "0.594 (+/-0.289) for {'activation': 'logistic', 'hidden_layer_sizes': (100,), 'learning_rate': 'adaptive'}\n"
     ]
    },
    {
     "name": "stderr",
     "output_type": "stream",
     "text": [
      "/Users/taswarkarim/opt/anaconda3/lib/python3.9/site-packages/sklearn/neural_network/_multilayer_perceptron.py:614: ConvergenceWarning: Stochastic Optimizer: Maximum iterations (200) reached and the optimization hasn't converged yet.\n",
      "  warnings.warn(\n"
     ]
    }
   ],
   "source": [
    "mlp = MLPClassifier()\n",
    "parameters = {\n",
    "    'hidden_layer_sizes': [(10,), (50,), (100,)],\n",
    "    'activation': ['relu', 'tanh', 'logistic'],\n",
    "    'learning_rate': ['constant', 'invscaling', 'adaptive']\n",
    "}\n",
    "\n",
    "clf2 = GridSearchCV(mlp, parameters, cv=5)\n",
    "clf2.fit(tr_features2, tr_labels2.values.ravel())\n",
    "\n",
    "\n",
    "print_results(clf2)"
   ]
  },
  {
   "cell_type": "code",
   "execution_count": 63,
   "metadata": {},
   "outputs": [
    {
     "name": "stderr",
     "output_type": "stream",
     "text": [
      "/Users/taswarkarim/opt/anaconda3/lib/python3.9/site-packages/sklearn/neural_network/_multilayer_perceptron.py:614: ConvergenceWarning: Stochastic Optimizer: Maximum iterations (200) reached and the optimization hasn't converged yet.\n",
      "  warnings.warn(\n",
      "/Users/taswarkarim/opt/anaconda3/lib/python3.9/site-packages/sklearn/neural_network/_multilayer_perceptron.py:614: ConvergenceWarning: Stochastic Optimizer: Maximum iterations (200) reached and the optimization hasn't converged yet.\n",
      "  warnings.warn(\n",
      "/Users/taswarkarim/opt/anaconda3/lib/python3.9/site-packages/sklearn/neural_network/_multilayer_perceptron.py:614: ConvergenceWarning: Stochastic Optimizer: Maximum iterations (200) reached and the optimization hasn't converged yet.\n",
      "  warnings.warn(\n",
      "/Users/taswarkarim/opt/anaconda3/lib/python3.9/site-packages/sklearn/neural_network/_multilayer_perceptron.py:614: ConvergenceWarning: Stochastic Optimizer: Maximum iterations (200) reached and the optimization hasn't converged yet.\n",
      "  warnings.warn(\n",
      "/Users/taswarkarim/opt/anaconda3/lib/python3.9/site-packages/sklearn/neural_network/_multilayer_perceptron.py:614: ConvergenceWarning: Stochastic Optimizer: Maximum iterations (200) reached and the optimization hasn't converged yet.\n",
      "  warnings.warn(\n",
      "/Users/taswarkarim/opt/anaconda3/lib/python3.9/site-packages/sklearn/neural_network/_multilayer_perceptron.py:614: ConvergenceWarning: Stochastic Optimizer: Maximum iterations (200) reached and the optimization hasn't converged yet.\n",
      "  warnings.warn(\n",
      "/Users/taswarkarim/opt/anaconda3/lib/python3.9/site-packages/sklearn/neural_network/_multilayer_perceptron.py:614: ConvergenceWarning: Stochastic Optimizer: Maximum iterations (200) reached and the optimization hasn't converged yet.\n",
      "  warnings.warn(\n",
      "/Users/taswarkarim/opt/anaconda3/lib/python3.9/site-packages/sklearn/neural_network/_multilayer_perceptron.py:614: ConvergenceWarning: Stochastic Optimizer: Maximum iterations (200) reached and the optimization hasn't converged yet.\n",
      "  warnings.warn(\n",
      "/Users/taswarkarim/opt/anaconda3/lib/python3.9/site-packages/sklearn/neural_network/_multilayer_perceptron.py:614: ConvergenceWarning: Stochastic Optimizer: Maximum iterations (200) reached and the optimization hasn't converged yet.\n",
      "  warnings.warn(\n",
      "/Users/taswarkarim/opt/anaconda3/lib/python3.9/site-packages/sklearn/neural_network/_multilayer_perceptron.py:614: ConvergenceWarning: Stochastic Optimizer: Maximum iterations (200) reached and the optimization hasn't converged yet.\n",
      "  warnings.warn(\n",
      "/Users/taswarkarim/opt/anaconda3/lib/python3.9/site-packages/sklearn/neural_network/_multilayer_perceptron.py:614: ConvergenceWarning: Stochastic Optimizer: Maximum iterations (200) reached and the optimization hasn't converged yet.\n",
      "  warnings.warn(\n",
      "/Users/taswarkarim/opt/anaconda3/lib/python3.9/site-packages/sklearn/neural_network/_multilayer_perceptron.py:614: ConvergenceWarning: Stochastic Optimizer: Maximum iterations (200) reached and the optimization hasn't converged yet.\n",
      "  warnings.warn(\n",
      "/Users/taswarkarim/opt/anaconda3/lib/python3.9/site-packages/sklearn/neural_network/_multilayer_perceptron.py:614: ConvergenceWarning: Stochastic Optimizer: Maximum iterations (200) reached and the optimization hasn't converged yet.\n",
      "  warnings.warn(\n",
      "/Users/taswarkarim/opt/anaconda3/lib/python3.9/site-packages/sklearn/neural_network/_multilayer_perceptron.py:614: ConvergenceWarning: Stochastic Optimizer: Maximum iterations (200) reached and the optimization hasn't converged yet.\n",
      "  warnings.warn(\n",
      "/Users/taswarkarim/opt/anaconda3/lib/python3.9/site-packages/sklearn/neural_network/_multilayer_perceptron.py:614: ConvergenceWarning: Stochastic Optimizer: Maximum iterations (200) reached and the optimization hasn't converged yet.\n",
      "  warnings.warn(\n",
      "/Users/taswarkarim/opt/anaconda3/lib/python3.9/site-packages/sklearn/neural_network/_multilayer_perceptron.py:614: ConvergenceWarning: Stochastic Optimizer: Maximum iterations (200) reached and the optimization hasn't converged yet.\n",
      "  warnings.warn(\n",
      "/Users/taswarkarim/opt/anaconda3/lib/python3.9/site-packages/sklearn/neural_network/_multilayer_perceptron.py:614: ConvergenceWarning: Stochastic Optimizer: Maximum iterations (200) reached and the optimization hasn't converged yet.\n",
      "  warnings.warn(\n"
     ]
    },
    {
     "data": {
      "text/plain": [
       "GridSearchCV(cv=5, estimator=MLPClassifier(),\n",
       "             param_grid={'activation': ['relu', 'tanh', 'logistic'],\n",
       "                         'hidden_layer_sizes': [(10,), (50,), (100,)],\n",
       "                         'learning_rate': ['constant', 'invscaling',\n",
       "                                           'adaptive']})"
      ]
     },
     "execution_count": 63,
     "metadata": {},
     "output_type": "execute_result"
    }
   ],
   "source": [
    "clf2.fit(tr_features2, tr_labels2.values.ravel())"
   ]
  },
  {
   "cell_type": "code",
   "execution_count": 79,
   "metadata": {},
   "outputs": [],
   "source": [
    "best_random_grid5=clf2.best_estimator_"
   ]
  },
  {
   "cell_type": "code",
   "execution_count": 68,
   "metadata": {},
   "outputs": [
    {
     "data": {
      "text/plain": [
       "MLPClassifier(activation='logistic', hidden_layer_sizes=(50,),\n",
       "              learning_rate='invscaling')"
      ]
     },
     "execution_count": 68,
     "metadata": {},
     "output_type": "execute_result"
    }
   ],
   "source": [
    "best_random_grid5"
   ]
  },
  {
   "cell_type": "code",
   "execution_count": 69,
   "metadata": {},
   "outputs": [
    {
     "name": "stdout",
     "output_type": "stream",
     "text": [
      "[[17  0  0]\n",
      " [ 7  0  0]\n",
      " [10  0  0]]\n"
     ]
    }
   ],
   "source": [
    "y_pred5=best_random_grid5.predict(X_test2)\n",
    "print(confusion_matrix(y_test2,y_pred5))"
   ]
  },
  {
   "cell_type": "code",
   "execution_count": 71,
   "metadata": {},
   "outputs": [
    {
     "name": "stdout",
     "output_type": "stream",
     "text": [
      "Accuracy Score 0.5\n"
     ]
    }
   ],
   "source": [
    "print(\"Accuracy Score {}\".format(accuracy_score(y_test2,y_pred5)))"
   ]
  },
  {
   "cell_type": "code",
   "execution_count": 72,
   "metadata": {},
   "outputs": [
    {
     "name": "stdout",
     "output_type": "stream",
     "text": [
      "Classification report:               precision    recall  f1-score   support\n",
      "\n",
      "      Adelie       0.50      1.00      0.67        17\n",
      "   Chinstrap       0.00      0.00      0.00         7\n",
      "      Gentoo       0.00      0.00      0.00        10\n",
      "\n",
      "    accuracy                           0.50        34\n",
      "   macro avg       0.17      0.33      0.22        34\n",
      "weighted avg       0.25      0.50      0.33        34\n",
      "\n"
     ]
    },
    {
     "name": "stderr",
     "output_type": "stream",
     "text": [
      "/Users/taswarkarim/opt/anaconda3/lib/python3.9/site-packages/sklearn/metrics/_classification.py:1248: UndefinedMetricWarning: Precision and F-score are ill-defined and being set to 0.0 in labels with no predicted samples. Use `zero_division` parameter to control this behavior.\n",
      "  _warn_prf(average, modifier, msg_start, len(result))\n",
      "/Users/taswarkarim/opt/anaconda3/lib/python3.9/site-packages/sklearn/metrics/_classification.py:1248: UndefinedMetricWarning: Precision and F-score are ill-defined and being set to 0.0 in labels with no predicted samples. Use `zero_division` parameter to control this behavior.\n",
      "  _warn_prf(average, modifier, msg_start, len(result))\n",
      "/Users/taswarkarim/opt/anaconda3/lib/python3.9/site-packages/sklearn/metrics/_classification.py:1248: UndefinedMetricWarning: Precision and F-score are ill-defined and being set to 0.0 in labels with no predicted samples. Use `zero_division` parameter to control this behavior.\n",
      "  _warn_prf(average, modifier, msg_start, len(result))\n"
     ]
    }
   ],
   "source": [
    "print(\"Classification report: {}\".format(classification_report(y_test2,y_pred5)))"
   ]
  },
  {
   "cell_type": "code",
   "execution_count": 73,
   "metadata": {},
   "outputs": [],
   "source": [
    "X=tr_features\n",
    "y=tr_labels.values.ravel()"
   ]
  },
  {
   "cell_type": "code",
   "execution_count": 74,
   "metadata": {},
   "outputs": [
    {
     "name": "stderr",
     "output_type": "stream",
     "text": [
      "/Users/taswarkarim/opt/anaconda3/lib/python3.9/site-packages/sklearn/neural_network/_multilayer_perceptron.py:614: ConvergenceWarning: Stochastic Optimizer: Maximum iterations (200) reached and the optimization hasn't converged yet.\n",
      "  warnings.warn(\n",
      "/Users/taswarkarim/opt/anaconda3/lib/python3.9/site-packages/sklearn/neural_network/_multilayer_perceptron.py:614: ConvergenceWarning: Stochastic Optimizer: Maximum iterations (200) reached and the optimization hasn't converged yet.\n",
      "  warnings.warn(\n",
      "/Users/taswarkarim/opt/anaconda3/lib/python3.9/site-packages/sklearn/neural_network/_multilayer_perceptron.py:614: ConvergenceWarning: Stochastic Optimizer: Maximum iterations (200) reached and the optimization hasn't converged yet.\n",
      "  warnings.warn(\n",
      "/Users/taswarkarim/opt/anaconda3/lib/python3.9/site-packages/sklearn/neural_network/_multilayer_perceptron.py:614: ConvergenceWarning: Stochastic Optimizer: Maximum iterations (200) reached and the optimization hasn't converged yet.\n",
      "  warnings.warn(\n",
      "/Users/taswarkarim/opt/anaconda3/lib/python3.9/site-packages/sklearn/neural_network/_multilayer_perceptron.py:614: ConvergenceWarning: Stochastic Optimizer: Maximum iterations (200) reached and the optimization hasn't converged yet.\n",
      "  warnings.warn(\n",
      "/Users/taswarkarim/opt/anaconda3/lib/python3.9/site-packages/sklearn/neural_network/_multilayer_perceptron.py:614: ConvergenceWarning: Stochastic Optimizer: Maximum iterations (200) reached and the optimization hasn't converged yet.\n",
      "  warnings.warn(\n",
      "/Users/taswarkarim/opt/anaconda3/lib/python3.9/site-packages/sklearn/neural_network/_multilayer_perceptron.py:614: ConvergenceWarning: Stochastic Optimizer: Maximum iterations (200) reached and the optimization hasn't converged yet.\n",
      "  warnings.warn(\n",
      "/Users/taswarkarim/opt/anaconda3/lib/python3.9/site-packages/sklearn/neural_network/_multilayer_perceptron.py:614: ConvergenceWarning: Stochastic Optimizer: Maximum iterations (200) reached and the optimization hasn't converged yet.\n",
      "  warnings.warn(\n",
      "/Users/taswarkarim/opt/anaconda3/lib/python3.9/site-packages/sklearn/neural_network/_multilayer_perceptron.py:614: ConvergenceWarning: Stochastic Optimizer: Maximum iterations (200) reached and the optimization hasn't converged yet.\n",
      "  warnings.warn(\n",
      "/Users/taswarkarim/opt/anaconda3/lib/python3.9/site-packages/sklearn/neural_network/_multilayer_perceptron.py:614: ConvergenceWarning: Stochastic Optimizer: Maximum iterations (200) reached and the optimization hasn't converged yet.\n",
      "  warnings.warn(\n",
      "/Users/taswarkarim/opt/anaconda3/lib/python3.9/site-packages/sklearn/neural_network/_multilayer_perceptron.py:614: ConvergenceWarning: Stochastic Optimizer: Maximum iterations (200) reached and the optimization hasn't converged yet.\n",
      "  warnings.warn(\n"
     ]
    },
    {
     "data": {
      "text/plain": [
       "<module 'matplotlib.pyplot' from '/Users/taswarkarim/opt/anaconda3/lib/python3.9/site-packages/matplotlib/pyplot.py'>"
      ]
     },
     "execution_count": 74,
     "metadata": {},
     "output_type": "execute_result"
    },
    {
     "data": {
      "image/png": "[encoded data removed]",
      "text/plain": [
       "<Figure size 1440x360 with 3 Axes>"
      ]
     },
     "metadata": {
      "needs_background": "light"
     },
     "output_type": "display_data"
    }
   ],
   "source": [
    "plot_learning_curve(best_random_grid5, \"Multilayer Perceptron\", X, y, axes=None, ylim=None, cv=5)"
   ]
  },
  {
   "cell_type": "code",
   "execution_count": 85,
   "metadata": {},
   "outputs": [
    {
     "data": {
      "text/plain": [
       "['./MLP2_model.pkl']"
      ]
     },
     "execution_count": 85,
     "metadata": {},
     "output_type": "execute_result"
    }
   ],
   "source": [
    "joblib.dump(clf2.best_estimator_, './MLP2_model.pkl')"
   ]
  },
  {
   "cell_type": "markdown",
   "metadata": {},
   "source": [
    "### Gradient Boosting Method"
   ]
  },
  {
   "cell_type": "markdown",
   "metadata": {},
   "source": [
    "#### 80-10-10"
   ]
  },
  {
   "cell_type": "code",
   "execution_count": 75,
   "metadata": {},
   "outputs": [
    {
     "name": "stdout",
     "output_type": "stream",
     "text": [
      "BEST PARAMS: {'learning_rate': 0.01, 'max_depth': 5, 'n_estimators': 50}\n",
      "\n",
      "0.494 (+/-0.288) for {'learning_rate': 0.01, 'max_depth': 1, 'n_estimators': 5}\n",
      "0.948 (+/-0.06) for {'learning_rate': 0.01, 'max_depth': 1, 'n_estimators': 50}\n",
      "0.971 (+/-0.03) for {'learning_rate': 0.01, 'max_depth': 1, 'n_estimators': 250}\n",
      "0.982 (+/-0.023) for {'learning_rate': 0.01, 'max_depth': 1, 'n_estimators': 500}\n",
      "0.711 (+/-0.294) for {'learning_rate': 0.01, 'max_depth': 3, 'n_estimators': 5}\n",
      "0.982 (+/-0.023) for {'learning_rate': 0.01, 'max_depth': 3, 'n_estimators': 50}\n",
      "0.989 (+/-0.03) for {'learning_rate': 0.01, 'max_depth': 3, 'n_estimators': 250}\n",
      "0.989 (+/-0.03) for {'learning_rate': 0.01, 'max_depth': 3, 'n_estimators': 500}\n",
      "0.719 (+/-0.301) for {'learning_rate': 0.01, 'max_depth': 5, 'n_estimators': 5}\n",
      "0.989 (+/-0.029) for {'learning_rate': 0.01, 'max_depth': 5, 'n_estimators': 50}\n",
      "0.989 (+/-0.029) for {'learning_rate': 0.01, 'max_depth': 5, 'n_estimators': 250}\n",
      "0.989 (+/-0.029) for {'learning_rate': 0.01, 'max_depth': 5, 'n_estimators': 500}\n",
      "0.719 (+/-0.301) for {'learning_rate': 0.01, 'max_depth': 7, 'n_estimators': 5}\n",
      "0.989 (+/-0.029) for {'learning_rate': 0.01, 'max_depth': 7, 'n_estimators': 50}\n",
      "0.989 (+/-0.029) for {'learning_rate': 0.01, 'max_depth': 7, 'n_estimators': 250}\n",
      "0.989 (+/-0.029) for {'learning_rate': 0.01, 'max_depth': 7, 'n_estimators': 500}\n",
      "0.719 (+/-0.301) for {'learning_rate': 0.01, 'max_depth': 9, 'n_estimators': 5}\n",
      "0.989 (+/-0.029) for {'learning_rate': 0.01, 'max_depth': 9, 'n_estimators': 50}\n",
      "0.989 (+/-0.029) for {'learning_rate': 0.01, 'max_depth': 9, 'n_estimators': 250}\n",
      "0.989 (+/-0.029) for {'learning_rate': 0.01, 'max_depth': 9, 'n_estimators': 500}\n",
      "0.948 (+/-0.06) for {'learning_rate': 0.1, 'max_depth': 1, 'n_estimators': 5}\n",
      "0.982 (+/-0.023) for {'learning_rate': 0.1, 'max_depth': 1, 'n_estimators': 50}\n",
      "0.978 (+/-0.036) for {'learning_rate': 0.1, 'max_depth': 1, 'n_estimators': 250}\n",
      "0.985 (+/-0.028) for {'learning_rate': 0.1, 'max_depth': 1, 'n_estimators': 500}\n",
      "0.982 (+/-0.023) for {'learning_rate': 0.1, 'max_depth': 3, 'n_estimators': 5}\n",
      "0.989 (+/-0.03) for {'learning_rate': 0.1, 'max_depth': 3, 'n_estimators': 50}\n",
      "0.982 (+/-0.057) for {'learning_rate': 0.1, 'max_depth': 3, 'n_estimators': 250}\n",
      "0.982 (+/-0.057) for {'learning_rate': 0.1, 'max_depth': 3, 'n_estimators': 500}\n",
      "0.985 (+/-0.036) for {'learning_rate': 0.1, 'max_depth': 5, 'n_estimators': 5}\n",
      "0.989 (+/-0.029) for {'learning_rate': 0.1, 'max_depth': 5, 'n_estimators': 50}\n",
      "0.989 (+/-0.029) for {'learning_rate': 0.1, 'max_depth': 5, 'n_estimators': 250}\n",
      "0.982 (+/-0.033) for {'learning_rate': 0.1, 'max_depth': 5, 'n_estimators': 500}\n",
      "0.985 (+/-0.036) for {'learning_rate': 0.1, 'max_depth': 7, 'n_estimators': 5}\n",
      "0.989 (+/-0.029) for {'learning_rate': 0.1, 'max_depth': 7, 'n_estimators': 50}\n",
      "0.989 (+/-0.029) for {'learning_rate': 0.1, 'max_depth': 7, 'n_estimators': 250}\n",
      "0.982 (+/-0.033) for {'learning_rate': 0.1, 'max_depth': 7, 'n_estimators': 500}\n",
      "0.989 (+/-0.029) for {'learning_rate': 0.1, 'max_depth': 9, 'n_estimators': 5}\n",
      "0.989 (+/-0.029) for {'learning_rate': 0.1, 'max_depth': 9, 'n_estimators': 50}\n",
      "0.989 (+/-0.029) for {'learning_rate': 0.1, 'max_depth': 9, 'n_estimators': 250}\n",
      "0.982 (+/-0.033) for {'learning_rate': 0.1, 'max_depth': 9, 'n_estimators': 500}\n",
      "0.989 (+/-0.03) for {'learning_rate': 1, 'max_depth': 1, 'n_estimators': 5}\n",
      "0.985 (+/-0.028) for {'learning_rate': 1, 'max_depth': 1, 'n_estimators': 50}\n",
      "0.978 (+/-0.054) for {'learning_rate': 1, 'max_depth': 1, 'n_estimators': 250}\n",
      "0.978 (+/-0.054) for {'learning_rate': 1, 'max_depth': 1, 'n_estimators': 500}\n",
      "0.982 (+/-0.047) for {'learning_rate': 1, 'max_depth': 3, 'n_estimators': 5}\n",
      "0.985 (+/-0.028) for {'learning_rate': 1, 'max_depth': 3, 'n_estimators': 50}\n",
      "0.985 (+/-0.028) for {'learning_rate': 1, 'max_depth': 3, 'n_estimators': 250}\n",
      "0.982 (+/-0.041) for {'learning_rate': 1, 'max_depth': 3, 'n_estimators': 500}\n",
      "0.974 (+/-0.038) for {'learning_rate': 1, 'max_depth': 5, 'n_estimators': 5}\n",
      "0.982 (+/-0.033) for {'learning_rate': 1, 'max_depth': 5, 'n_estimators': 50}\n",
      "0.982 (+/-0.033) for {'learning_rate': 1, 'max_depth': 5, 'n_estimators': 250}\n",
      "0.982 (+/-0.033) for {'learning_rate': 1, 'max_depth': 5, 'n_estimators': 500}\n",
      "0.978 (+/-0.043) for {'learning_rate': 1, 'max_depth': 7, 'n_estimators': 5}\n",
      "0.982 (+/-0.033) for {'learning_rate': 1, 'max_depth': 7, 'n_estimators': 50}\n",
      "0.982 (+/-0.033) for {'learning_rate': 1, 'max_depth': 7, 'n_estimators': 250}\n",
      "0.982 (+/-0.033) for {'learning_rate': 1, 'max_depth': 7, 'n_estimators': 500}\n",
      "0.978 (+/-0.043) for {'learning_rate': 1, 'max_depth': 9, 'n_estimators': 5}\n",
      "0.982 (+/-0.033) for {'learning_rate': 1, 'max_depth': 9, 'n_estimators': 50}\n",
      "0.982 (+/-0.033) for {'learning_rate': 1, 'max_depth': 9, 'n_estimators': 250}\n",
      "0.982 (+/-0.033) for {'learning_rate': 1, 'max_depth': 9, 'n_estimators': 500}\n",
      "0.451 (+/-0.166) for {'learning_rate': 10, 'max_depth': 1, 'n_estimators': 5}\n",
      "0.451 (+/-0.166) for {'learning_rate': 10, 'max_depth': 1, 'n_estimators': 50}\n",
      "0.451 (+/-0.166) for {'learning_rate': 10, 'max_depth': 1, 'n_estimators': 250}\n",
      "0.451 (+/-0.166) for {'learning_rate': 10, 'max_depth': 1, 'n_estimators': 500}\n",
      "0.982 (+/-0.033) for {'learning_rate': 10, 'max_depth': 3, 'n_estimators': 5}\n",
      "0.963 (+/-0.047) for {'learning_rate': 10, 'max_depth': 3, 'n_estimators': 50}\n",
      "0.967 (+/-0.049) for {'learning_rate': 10, 'max_depth': 3, 'n_estimators': 250}\n",
      "0.967 (+/-0.049) for {'learning_rate': 10, 'max_depth': 3, 'n_estimators': 500}\n",
      "0.978 (+/-0.036) for {'learning_rate': 10, 'max_depth': 5, 'n_estimators': 5}\n",
      "0.978 (+/-0.027) for {'learning_rate': 10, 'max_depth': 5, 'n_estimators': 50}\n",
      "0.96 (+/-0.055) for {'learning_rate': 10, 'max_depth': 5, 'n_estimators': 250}\n",
      "0.967 (+/-0.064) for {'learning_rate': 10, 'max_depth': 5, 'n_estimators': 500}\n",
      "0.989 (+/-0.03) for {'learning_rate': 10, 'max_depth': 7, 'n_estimators': 5}\n",
      "0.985 (+/-0.028) for {'learning_rate': 10, 'max_depth': 7, 'n_estimators': 50}\n",
      "0.985 (+/-0.028) for {'learning_rate': 10, 'max_depth': 7, 'n_estimators': 250}\n",
      "0.982 (+/-0.033) for {'learning_rate': 10, 'max_depth': 7, 'n_estimators': 500}\n",
      "0.985 (+/-0.043) for {'learning_rate': 10, 'max_depth': 9, 'n_estimators': 5}\n",
      "0.985 (+/-0.028) for {'learning_rate': 10, 'max_depth': 9, 'n_estimators': 50}\n",
      "0.985 (+/-0.028) for {'learning_rate': 10, 'max_depth': 9, 'n_estimators': 250}\n",
      "0.982 (+/-0.033) for {'learning_rate': 10, 'max_depth': 9, 'n_estimators': 500}\n",
      "0.417 (+/-0.253) for {'learning_rate': 100, 'max_depth': 1, 'n_estimators': 5}\n",
      "0.417 (+/-0.253) for {'learning_rate': 100, 'max_depth': 1, 'n_estimators': 50}\n",
      "0.417 (+/-0.253) for {'learning_rate': 100, 'max_depth': 1, 'n_estimators': 250}\n",
      "0.417 (+/-0.253) for {'learning_rate': 100, 'max_depth': 1, 'n_estimators': 500}\n",
      "0.985 (+/-0.036) for {'learning_rate': 100, 'max_depth': 3, 'n_estimators': 5}\n",
      "0.985 (+/-0.036) for {'learning_rate': 100, 'max_depth': 3, 'n_estimators': 50}\n",
      "0.985 (+/-0.036) for {'learning_rate': 100, 'max_depth': 3, 'n_estimators': 250}\n",
      "0.985 (+/-0.036) for {'learning_rate': 100, 'max_depth': 3, 'n_estimators': 500}\n",
      "0.982 (+/-0.0) for {'learning_rate': 100, 'max_depth': 5, 'n_estimators': 5}\n",
      "0.974 (+/-0.018) for {'learning_rate': 100, 'max_depth': 5, 'n_estimators': 50}\n",
      "0.978 (+/-0.028) for {'learning_rate': 100, 'max_depth': 5, 'n_estimators': 250}\n",
      "0.982 (+/-0.041) for {'learning_rate': 100, 'max_depth': 5, 'n_estimators': 500}\n",
      "0.978 (+/-0.015) for {'learning_rate': 100, 'max_depth': 7, 'n_estimators': 5}\n",
      "0.982 (+/-0.041) for {'learning_rate': 100, 'max_depth': 7, 'n_estimators': 50}\n",
      "0.982 (+/-0.023) for {'learning_rate': 100, 'max_depth': 7, 'n_estimators': 250}\n",
      "0.982 (+/-0.0) for {'learning_rate': 100, 'max_depth': 7, 'n_estimators': 500}\n",
      "0.982 (+/-0.041) for {'learning_rate': 100, 'max_depth': 9, 'n_estimators': 5}\n",
      "0.985 (+/-0.028) for {'learning_rate': 100, 'max_depth': 9, 'n_estimators': 50}\n",
      "0.982 (+/-0.023) for {'learning_rate': 100, 'max_depth': 9, 'n_estimators': 250}\n",
      "0.978 (+/-0.036) for {'learning_rate': 100, 'max_depth': 9, 'n_estimators': 500}\n"
     ]
    }
   ],
   "source": [
    "gb = GradientBoostingClassifier()\n",
    "parameters = {\n",
    "    'n_estimators': [5, 50, 250, 500],\n",
    "    'max_depth': [1, 3, 5, 7, 9],\n",
    "    'learning_rate': [0.01, 0.1, 1, 10, 100]\n",
    "}\n",
    "\n",
    "cv5 = GridSearchCV(gb, parameters, cv=5)\n",
    "cv5.fit(tr_features2, tr_labels2.values.ravel())\n",
    "\n",
    "\n",
    "print_results(cv5)"
   ]
  },
  {
   "cell_type": "code",
   "execution_count": 77,
   "metadata": {},
   "outputs": [],
   "source": [
    "best_random_grid6=cv5.best_estimator_\n"
   ]
  },
  {
   "cell_type": "code",
   "execution_count": 78,
   "metadata": {},
   "outputs": [
    {
     "name": "stdout",
     "output_type": "stream",
     "text": [
      "[[16  1  0]\n",
      " [ 0  7  0]\n",
      " [ 0  0 10]]\n"
     ]
    }
   ],
   "source": [
    "y_pred6=best_random_grid6.predict(X_test2)\n",
    "print(confusion_matrix(y_test2,y_pred6))"
   ]
  },
  {
   "cell_type": "code",
   "execution_count": 80,
   "metadata": {},
   "outputs": [
    {
     "name": "stdout",
     "output_type": "stream",
     "text": [
      "Accuracy Score 0.9705882352941176\n"
     ]
    }
   ],
   "source": [
    "print(\"Accuracy Score {}\".format(accuracy_score(y_test2,y_pred6)))"
   ]
  },
  {
   "cell_type": "code",
   "execution_count": 81,
   "metadata": {},
   "outputs": [
    {
     "name": "stdout",
     "output_type": "stream",
     "text": [
      "Classification report:               precision    recall  f1-score   support\n",
      "\n",
      "      Adelie       1.00      0.94      0.97        17\n",
      "   Chinstrap       0.88      1.00      0.93         7\n",
      "      Gentoo       1.00      1.00      1.00        10\n",
      "\n",
      "    accuracy                           0.97        34\n",
      "   macro avg       0.96      0.98      0.97        34\n",
      "weighted avg       0.97      0.97      0.97        34\n",
      "\n"
     ]
    }
   ],
   "source": [
    "print(\"Classification report: {}\".format(classification_report(y_test2,y_pred6)))"
   ]
  },
  {
   "cell_type": "code",
   "execution_count": 82,
   "metadata": {},
   "outputs": [],
   "source": [
    "X=tr_features\n",
    "y=tr_labels.values.ravel()"
   ]
  },
  {
   "cell_type": "code",
   "execution_count": 83,
   "metadata": {},
   "outputs": [
    {
     "data": {
      "text/plain": [
       "<module 'matplotlib.pyplot' from '/Users/taswarkarim/opt/anaconda3/lib/python3.9/site-packages/matplotlib/pyplot.py'>"
      ]
     },
     "execution_count": 83,
     "metadata": {},
     "output_type": "execute_result"
    },
    {
     "data": {
      "image/png": "[encoded data removed]",
      "text/plain": [
       "<Figure size 1440x360 with 3 Axes>"
      ]
     },
     "metadata": {
      "needs_background": "light"
     },
     "output_type": "display_data"
    }
   ],
   "source": [
    "plot_learning_curve(best_random_grid6, \"Gradient Boosting Classifier for 80-10-10\", X, y, axes=None, ylim=None, cv=5)"
   ]
  },
  {
   "cell_type": "code",
   "execution_count": 86,
   "metadata": {},
   "outputs": [
    {
     "data": {
      "text/plain": [
       "['./GB2_model.pkl']"
      ]
     },
     "execution_count": 86,
     "metadata": {},
     "output_type": "execute_result"
    }
   ],
   "source": [
    "joblib.dump(cv5.best_estimator_, './GB2_model.pkl')"
   ]
  },
  {
   "cell_type": "markdown",
   "metadata": {},
   "source": [
    "### Evaluating models for 80-10-10 Split ratio"
   ]
  },
  {
   "cell_type": "code",
   "execution_count": 88,
   "metadata": {},
   "outputs": [
    {
     "data": {
      "text/plain": [
       "{'MLP2': MLPClassifier(activation='logistic', hidden_layer_sizes=(50,),\n",
       "               learning_rate='invscaling'),\n",
       " 'RF2': RandomForestClassifier(max_depth=16, n_estimators=5),\n",
       " 'GB2': GradientBoostingClassifier(learning_rate=0.01, max_depth=5, n_estimators=50)}"
      ]
     },
     "execution_count": 88,
     "metadata": {},
     "output_type": "execute_result"
    }
   ],
   "source": [
    "models2 = {}\n",
    "\n",
    "for mdl in ['MLP2', 'RF2', 'GB2']:\n",
    "    models2[mdl] = joblib.load('./{}_model.pkl'.format(mdl))\n",
    "\n",
    "\n",
    "models2"
   ]
  },
  {
   "cell_type": "markdown",
   "metadata": {},
   "source": [
    "Evaluating the 80-10-10 split models on Validation set"
   ]
  },
  {
   "cell_type": "code",
   "execution_count": 91,
   "metadata": {},
   "outputs": [
    {
     "name": "stdout",
     "output_type": "stream",
     "text": [
      "MLP2 -- Accuracy: 0.51429 / Precision: 0.51429 / Recall: 0.51429 / Latency: 17.8ms\n",
      "RF2 -- Accuracy: 0.97143 / Precision: 0.97143 / Recall: 0.97143 / Latency: 9.3ms\n",
      "GB2 -- Accuracy: 1.0 / Precision: 1.0 / Recall: 1.0 / Latency: 7.8ms\n"
     ]
    }
   ],
   "source": [
    "for name, mdl in models2.items():\n",
    "    evaluate_model(name, mdl, val_features2, val_labels2)\n"
   ]
  },
  {
   "cell_type": "markdown",
   "metadata": {},
   "source": [
    "Evaluating the 80-10-10 split models on Test set"
   ]
  },
  {
   "cell_type": "code",
   "execution_count": 92,
   "metadata": {},
   "outputs": [
    {
     "name": "stdout",
     "output_type": "stream",
     "text": [
      "MLP2 -- Accuracy: 0.5 / Precision: 0.5 / Recall: 0.5 / Latency: 2.7ms\n",
      "RF2 -- Accuracy: 1.0 / Precision: 1.0 / Recall: 1.0 / Latency: 7.3ms\n",
      "GB2 -- Accuracy: 0.97059 / Precision: 0.97059 / Recall: 0.97059 / Latency: 3.3ms\n"
     ]
    }
   ],
   "source": [
    "for name, mdl in models2.items():\n",
    "    evaluate_model(name, mdl, test_features2, test_labels2)"
   ]
  },
  {
   "cell_type": "code",
   "execution_count": 100,
   "metadata": {},
   "outputs": [
    {
     "name": "stdout",
     "output_type": "stream",
     "text": [
      "MLP 60-20-20 Accuracy Score 0.47058823529411764\n",
      "RF 60-20-20 Accuracy Score 0.9852941176470589\n",
      "GB 60-20-20 Accuracy Score 0.9852941176470589\n",
      "RF 80-10-10 Accuracy Score 1.0\n",
      "MLP 80-10-10 Accuracy Score 0.5\n",
      "GB 80-10-10 Accuracy Score 0.9705882352941176\n"
     ]
    }
   ],
   "source": [
    "print(\"MLP 60-20-20 Accuracy Score {}\".format(accuracy_score(y_test1,y_pred1)))\n",
    "print(\"RF 60-20-20 Accuracy Score {}\".format(accuracy_score(y_test1,y_pred2)))\n",
    "print(\"GB 60-20-20 Accuracy Score {}\".format(accuracy_score(y_test1,y_pred3)))\n",
    "print(\"RF 80-10-10 Accuracy Score {}\".format(accuracy_score(y_test2,y_pred4)))\n",
    "print(\"MLP 80-10-10 Accuracy Score {}\".format(accuracy_score(y_test2,y_pred5)))\n",
    "print(\"GB 80-10-10 Accuracy Score {}\".format(accuracy_score(y_test2,y_pred6)))"
   ]
  },
  {
   "cell_type": "markdown",
   "metadata": {},
   "source": [
    "#### Comparing Accuracies"
   ]
  },
  {
   "cell_type": "code",
   "execution_count": 102,
   "metadata": {},
   "outputs": [
    {
     "name": "stdout",
     "output_type": "stream",
     "text": [
      "MLP -- Accuracy: 0.46377 / Precision: 0.46377 / Recall: 0.46377 / Latency: 13.2ms\n",
      "RF -- Accuracy: 1.0 / Precision: 1.0 / Recall: 1.0 / Latency: 20.3ms\n",
      "GB -- Accuracy: 1.0 / Precision: 1.0 / Recall: 1.0 / Latency: 13.9ms\n"
     ]
    }
   ],
   "source": [
    "for name, mdl in models.items():\n",
    "    evaluate_model(name, mdl, val_features, val_labels)"
   ]
  },
  {
   "cell_type": "code",
   "execution_count": 103,
   "metadata": {},
   "outputs": [
    {
     "name": "stdout",
     "output_type": "stream",
     "text": [
      "MLP2 -- Accuracy: 0.51429 / Precision: 0.51429 / Recall: 0.51429 / Latency: 11.2ms\n",
      "RF2 -- Accuracy: 0.97143 / Precision: 0.97143 / Recall: 0.97143 / Latency: 6.4ms\n",
      "GB2 -- Accuracy: 1.0 / Precision: 1.0 / Recall: 1.0 / Latency: 6.7ms\n"
     ]
    }
   ],
   "source": [
    "for name, mdl in models2.items():\n",
    "    evaluate_model(name, mdl, val_features2, val_labels2)"
   ]
  },
  {
   "cell_type": "markdown",
   "metadata": {},
   "source": [
    "### Conclusion"
   ]
  },
  {
   "cell_type": "markdown",
   "metadata": {},
   "source": [
    "##### From the result above, we can see that the 60-20-20 split had a better accuracy compared to 80-10-10. However, when it came to latency - the latter seems to be performing better as it ran significantly faster for the Random Forest & Gradient Boosting model. Weighing everything the 80-10-10 split ratio seems to be better."
   ]
  },
  {
   "cell_type": "markdown",
   "metadata": {},
   "source": []
  },
  {
   "cell_type": "markdown",
   "metadata": {},
   "source": []
  }
 ],
 "metadata": {
  "interpreter": {
   "hash": "2e6c12acef52fb63f5c69123f384ddf637b6e58d8f615616b026921a4cb16581"
  },
  "kernelspec": {
   "display_name": "Python 3.9.7 ('base')",
   "language": "python",
   "name": "python3"
  },
  "language_info": {
   "codemirror_mode": {
    "name": "ipython",
    "version": 3
   },
   "file_extension": ".py",
   "mimetype": "text/x-python",
   "name": "python",
   "nbconvert_exporter": "python",
   "pygments_lexer": "ipython3",
   "version": "3.9.7"
  },
  "orig_nbformat": 4
 },
 "nbformat": 4,
 "nbformat_minor": 2
}
